{
 "cells": [
  {
   "cell_type": "code",
   "execution_count": 7,
   "metadata": {
    "collapsed": true
   },
   "outputs": [
    {
     "data": {
      "text/plain": "<module 'PrepareData' from 'C:\\\\Users\\\\Adam\\\\source\\\\repos\\\\WeatherPrediction\\\\WeatherPredictionProject\\\\PrepareData.py'>"
     },
     "execution_count": 7,
     "metadata": {},
     "output_type": "execute_result"
    }
   ],
   "source": [
    "from sklearn.model_selection import train_test_split\n",
    "from imblearn.combine import SMOTETomek\n",
    "import MachineLearning as ML\n",
    "import PrepareData\n",
    "import DB_reader\n",
    "import importlib\n",
    "\n",
    "importlib.reload(ML)\n",
    "importlib.reload(PrepareData)"
   ]
  },
  {
   "cell_type": "code",
   "execution_count": 8,
   "outputs": [],
   "source": [
    "# method 'teach_models' takes the data and tech all models with it\n",
    "\n",
    "def teach_models(X_train, y_train):\n",
    "    models=[]\n",
    "\n",
    "    X_train, y_train = SMOTETomek().fit_resample(X_train, y_train)\n",
    "\n",
    "    models.append(ML.NeuralNetworks(X_train, y_train))\n",
    "    models.append(ML.KNN(X_train, y_train))\n",
    "    models.append(ML.DecisionTree(X_train, y_train))\n",
    "    models.append(ML.LinearRegressionModel(X_train, y_train))\n",
    "    models.append(ML.LogisticRegressionModel(X_train, y_train))\n",
    "    models.append(ML.RandomForest(X_train, y_train))\n",
    "    models.append(ML.SupportVectorMachines(X_train, y_train))\n",
    "    models.append(ML.SupportVectorRegression(X_train, y_train))\n",
    "    models.append(ML.TreeGradientBoosting(X_train, y_train))\n",
    "\n",
    "    return models"
   ],
   "metadata": {
    "collapsed": false,
    "pycharm": {
     "name": "#%%\n"
    }
   }
  },
  {
   "cell_type": "code",
   "execution_count": 9,
   "outputs": [],
   "source": [
    "# method 'predict_tomorrow_weather' predicts rainfall of next day. Result equal 1 means it will be rainy, otherwise not.\n",
    "# Its possible to predict result with single model or with ensable learing (more than 1 model)\n",
    "\n",
    "def predict_tomorrow_weather(models):\n",
    "    results=[]\n",
    "    today_data=DB_reader.getWeatherForecast()\n",
    "    today_data=PrepareData.standarize_row(today_data, df.iloc[:,1:].columns.values)\n",
    "\n",
    "    for model in models:\n",
    "        results.append(model.predict(today_data)>0.5)\n",
    "    result=(sum(results)/len(results))>0.5\n",
    "\n",
    "    answer=\"Tomorrow will be rainy\" if result else \"Tomorrow will be sunny\"\n",
    "    return answer"
   ],
   "metadata": {
    "collapsed": false,
    "pycharm": {
     "name": "#%%\n"
    }
   }
  },
  {
   "cell_type": "code",
   "execution_count": 10,
   "outputs": [
    {
     "name": "stdout",
     "output_type": "stream",
     "text": [
      "Epoch 1/25\n",
      "327/327 [==============================] - 2s 3ms/step - loss: 5.5138 - f1: 0.7577 - accuracy: 0.6265 - val_loss: 13.4372 - val_f1: 0.1456 - val_accuracy: 0.1188\n",
      "Epoch 2/25\n",
      "327/327 [==============================] - 1s 2ms/step - loss: 5.6871 - f1: 0.7635 - accuracy: 0.6271 - val_loss: 13.4372 - val_f1: 0.1456 - val_accuracy: 0.1188\n",
      "Epoch 3/25\n",
      "327/327 [==============================] - 1s 2ms/step - loss: 5.6871 - f1: 0.7638 - accuracy: 0.6271 - val_loss: 13.4372 - val_f1: 0.1456 - val_accuracy: 0.1188\n",
      "Epoch 4/25\n",
      "327/327 [==============================] - 1s 2ms/step - loss: 5.6871 - f1: 0.7647 - accuracy: 0.6271 - val_loss: 13.4372 - val_f1: 0.1456 - val_accuracy: 0.1188\n",
      "Epoch 5/25\n",
      "327/327 [==============================] - 1s 2ms/step - loss: 5.6871 - f1: 0.7640 - accuracy: 0.6271 - val_loss: 13.4372 - val_f1: 0.1456 - val_accuracy: 0.1188\n",
      "Epoch 6/25\n",
      "327/327 [==============================] - 1s 2ms/step - loss: 5.6871 - f1: 0.7628 - accuracy: 0.6271 - val_loss: 13.4372 - val_f1: 0.1456 - val_accuracy: 0.1188\n",
      "Epoch 7/25\n",
      "327/327 [==============================] - 1s 2ms/step - loss: 5.6871 - f1: 0.7637 - accuracy: 0.6271 - val_loss: 13.4372 - val_f1: 0.1456 - val_accuracy: 0.1188\n",
      "Epoch 8/25\n",
      "327/327 [==============================] - 1s 2ms/step - loss: 5.6871 - f1: 0.7635 - accuracy: 0.6271 - val_loss: 13.4372 - val_f1: 0.1456 - val_accuracy: 0.1188\n",
      "Epoch 9/25\n",
      "327/327 [==============================] - 1s 2ms/step - loss: 5.6871 - f1: 0.7636 - accuracy: 0.6271 - val_loss: 13.4372 - val_f1: 0.1456 - val_accuracy: 0.1188\n",
      "Epoch 10/25\n",
      "327/327 [==============================] - 1s 2ms/step - loss: 5.6871 - f1: 0.7634 - accuracy: 0.6271 - val_loss: 13.4372 - val_f1: 0.1456 - val_accuracy: 0.1188\n",
      "Epoch 11/25\n",
      "327/327 [==============================] - 1s 2ms/step - loss: 5.6871 - f1: 0.7633 - accuracy: 0.6271 - val_loss: 13.4372 - val_f1: 0.1456 - val_accuracy: 0.1188\n"
     ]
    }
   ],
   "source": [
    "# cell with data read, split it into train and test parts and teach the models\n",
    "\n",
    "df = PrepareData.get_data()\n",
    "\n",
    "df = df.dropna()\n",
    "y = df['nextday_rainfall']\n",
    "X = df.drop('nextday_rainfall', axis=1)\n",
    "\n",
    "X_train, X_test, y_train, y_test = train_test_split(X, y, test_size=0.25, stratify=y)\n",
    "\n",
    "models = teach_models(X_train, y_train)"
   ],
   "metadata": {
    "collapsed": false,
    "pycharm": {
     "name": "#%%\n"
    }
   }
  },
  {
   "cell_type": "code",
   "execution_count": 11,
   "outputs": [
    {
     "name": "stdout",
     "output_type": "stream",
     "text": [
      "1/1 [==============================] - 0s 67ms/step\n",
      "Tomorrow will be rainy\n"
     ]
    }
   ],
   "source": [
    "# simple usage of 'predict_tomorrow_weather' method\n",
    "\n",
    "result=predict_tomorrow_weather([models[0],models[1],models[2]])\n",
    "print(result)"
   ],
   "metadata": {
    "collapsed": false,
    "pycharm": {
     "name": "#%%\n"
    }
   }
  }
 ],
 "metadata": {
  "kernelspec": {
   "display_name": "Python 3",
   "language": "python",
   "name": "python3"
  },
  "language_info": {
   "codemirror_mode": {
    "name": "ipython",
    "version": 2
   },
   "file_extension": ".py",
   "mimetype": "text/x-python",
   "name": "python",
   "nbconvert_exporter": "python",
   "pygments_lexer": "ipython2",
   "version": "2.7.6"
  }
 },
 "nbformat": 4,
 "nbformat_minor": 0
}