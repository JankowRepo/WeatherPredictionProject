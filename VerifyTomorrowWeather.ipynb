{
 "cells": [
  {
   "cell_type": "code",
   "execution_count": 12,
   "metadata": {
    "collapsed": true
   },
   "outputs": [
    {
     "data": {
      "text/plain": "<module 'PrepareData' from 'D:\\\\Studia\\\\Magisterka semestr 2\\\\Bazy i źródła danych\\\\Projekt\\\\WeatherPredictionProject\\\\PrepareData.py'>"
     },
     "execution_count": 12,
     "metadata": {},
     "output_type": "execute_result"
    }
   ],
   "source": [
    "from sklearn.model_selection import train_test_split\n",
    "from imblearn.combine import SMOTETomek\n",
    "import MachineLearning as ML\n",
    "import PrepareData\n",
    "import DB_reader\n",
    "import importlib\n",
    "\n",
    "importlib.reload(ML)\n",
    "importlib.reload(PrepareData)"
   ]
  },
  {
   "cell_type": "code",
   "execution_count": 13,
   "outputs": [],
   "source": [
    "# method 'teach_models' takes the data and tech all models with it\n",
    "\n",
    "def teach_models(X_train, y_train):\n",
    "    models=[]\n",
    "\n",
    "    X_train, y_train = SMOTETomek().fit_resample(X_train, y_train)\n",
    "\n",
    "    models.append(ML.NeuralNetworks(X_train, y_train))\n",
    "    models.append(ML.KNN(X_train, y_train))\n",
    "    models.append(ML.DecisionTree(X_train, y_train))\n",
    "    models.append(ML.LinearRegressionModel(X_train, y_train))\n",
    "    models.append(ML.LogisticRegressionModel(X_train, y_train))\n",
    "    models.append(ML.RandomForest(X_train, y_train))\n",
    "    models.append(ML.SupportVectorMachines(X_train, y_train))\n",
    "    models.append(ML.SupportVectorRegression(X_train, y_train))\n",
    "    models.append(ML.TreeGradientBoosting(X_train, y_train))\n",
    "\n",
    "    return models"
   ],
   "metadata": {
    "collapsed": false,
    "pycharm": {
     "name": "#%%\n"
    }
   }
  },
  {
   "cell_type": "code",
   "execution_count": 14,
   "outputs": [],
   "source": [
    "# method 'predict_tomorrow_weather' predicts rainfall of next day. Result equal 1 means it will be rainy, otherwise not.\n",
    "# Its possible to predict result with single model or with ensable learing (more than 1 model)\n",
    "\n",
    "def predict_tomorrow_weather(models):\n",
    "    results=[]\n",
    "    today_data=DB_reader.getWeatherForecast()\n",
    "    today_data=PrepareData.standarize_row(today_data, df.iloc[:,1:].columns.values)\n",
    "\n",
    "    for model in models:\n",
    "        results.append(model.predict(today_data)>0.5)\n",
    "    result=(sum(results)/len(results))>0.5\n",
    "\n",
    "    answer=\"Tomorrow will be rainy\" if result else \"Tomorrow will be sunny\"\n",
    "    return answer"
   ],
   "metadata": {
    "collapsed": false,
    "pycharm": {
     "name": "#%%\n"
    }
   }
  },
  {
   "cell_type": "code",
   "execution_count": 15,
   "outputs": [
    {
     "name": "stdout",
     "output_type": "stream",
     "text": [
      "Epoch 1/25\n",
      "323/323 [==============================] - 2s 3ms/step - loss: 0.6909 - f1: 0.4306 - accuracy: 0.5251 - val_loss: 0.6832 - val_f1: 0.6753 - val_accuracy: 0.5427\n",
      "Epoch 2/25\n",
      "323/323 [==============================] - 1s 3ms/step - loss: 0.6808 - f1: 0.4884 - accuracy: 0.5762 - val_loss: 0.6637 - val_f1: 0.6351 - val_accuracy: 0.6750\n",
      "Epoch 3/25\n",
      "323/323 [==============================] - 1s 3ms/step - loss: 0.6704 - f1: 0.4832 - accuracy: 0.5996 - val_loss: 0.6352 - val_f1: 0.7062 - val_accuracy: 0.6947\n",
      "Epoch 4/25\n",
      "323/323 [==============================] - 1s 3ms/step - loss: 0.6612 - f1: 0.5397 - accuracy: 0.6245 - val_loss: 0.6390 - val_f1: 0.6484 - val_accuracy: 0.6820\n",
      "Epoch 5/25\n",
      "323/323 [==============================] - 1s 3ms/step - loss: 0.6607 - f1: 0.5252 - accuracy: 0.6214 - val_loss: 0.6231 - val_f1: 0.7094 - val_accuracy: 0.6901\n",
      "Epoch 6/25\n",
      "323/323 [==============================] - 1s 3ms/step - loss: 0.6602 - f1: 0.5334 - accuracy: 0.6247 - val_loss: 0.6286 - val_f1: 0.6826 - val_accuracy: 0.6999\n",
      "Epoch 7/25\n",
      "323/323 [==============================] - 1s 3ms/step - loss: 0.6514 - f1: 0.5634 - accuracy: 0.6332 - val_loss: 0.6466 - val_f1: 0.5746 - val_accuracy: 0.6645\n",
      "Epoch 8/25\n",
      "323/323 [==============================] - 1s 3ms/step - loss: 0.6532 - f1: 0.5650 - accuracy: 0.6392 - val_loss: 0.6149 - val_f1: 0.7147 - val_accuracy: 0.6947\n",
      "Epoch 9/25\n",
      "323/323 [==============================] - 1s 3ms/step - loss: 0.6529 - f1: 0.5734 - accuracy: 0.6433 - val_loss: 0.6061 - val_f1: 0.6939 - val_accuracy: 0.7081\n",
      "Epoch 10/25\n",
      "323/323 [==============================] - 1s 3ms/step - loss: 0.6444 - f1: 0.5730 - accuracy: 0.6485 - val_loss: 0.6082 - val_f1: 0.6934 - val_accuracy: 0.7034\n",
      "Epoch 11/25\n",
      "323/323 [==============================] - 1s 3ms/step - loss: 0.6438 - f1: 0.5719 - accuracy: 0.6443 - val_loss: 0.6017 - val_f1: 0.7125 - val_accuracy: 0.7168\n",
      "Epoch 12/25\n",
      "323/323 [==============================] - 1s 3ms/step - loss: 0.6426 - f1: 0.5862 - accuracy: 0.6524 - val_loss: 0.5950 - val_f1: 0.6972 - val_accuracy: 0.7110\n",
      "Epoch 13/25\n",
      "323/323 [==============================] - 1s 3ms/step - loss: 0.6400 - f1: 0.5725 - accuracy: 0.6487 - val_loss: 0.6057 - val_f1: 0.6900 - val_accuracy: 0.7145\n",
      "Epoch 14/25\n",
      "323/323 [==============================] - 1s 3ms/step - loss: 0.6322 - f1: 0.6019 - accuracy: 0.6650 - val_loss: 0.6044 - val_f1: 0.6682 - val_accuracy: 0.7121\n",
      "Epoch 15/25\n",
      "323/323 [==============================] - 1s 3ms/step - loss: 0.6276 - f1: 0.5957 - accuracy: 0.6642 - val_loss: 0.5992 - val_f1: 0.6583 - val_accuracy: 0.7115\n",
      "Epoch 16/25\n",
      "323/323 [==============================] - 1s 3ms/step - loss: 0.6271 - f1: 0.6009 - accuracy: 0.6627 - val_loss: 0.5857 - val_f1: 0.6831 - val_accuracy: 0.7179\n",
      "Epoch 17/25\n",
      "323/323 [==============================] - 1s 3ms/step - loss: 0.6334 - f1: 0.5910 - accuracy: 0.6596 - val_loss: 0.5853 - val_f1: 0.7165 - val_accuracy: 0.7208\n",
      "Epoch 18/25\n",
      "323/323 [==============================] - 1s 3ms/step - loss: 0.6272 - f1: 0.6116 - accuracy: 0.6731 - val_loss: 0.5851 - val_f1: 0.6815 - val_accuracy: 0.7261\n",
      "Epoch 19/25\n",
      "323/323 [==============================] - 1s 3ms/step - loss: 0.6179 - f1: 0.6075 - accuracy: 0.6752 - val_loss: 0.5721 - val_f1: 0.6725 - val_accuracy: 0.7203\n",
      "Epoch 20/25\n",
      "323/323 [==============================] - 1s 3ms/step - loss: 0.6216 - f1: 0.6149 - accuracy: 0.6756 - val_loss: 0.5850 - val_f1: 0.6495 - val_accuracy: 0.7139\n",
      "Epoch 21/25\n",
      "323/323 [==============================] - 1s 3ms/step - loss: 0.6242 - f1: 0.6052 - accuracy: 0.6702 - val_loss: 0.5827 - val_f1: 0.6718 - val_accuracy: 0.7232\n",
      "Epoch 22/25\n",
      "323/323 [==============================] - 1s 3ms/step - loss: 0.6217 - f1: 0.6047 - accuracy: 0.6687 - val_loss: 0.5624 - val_f1: 0.7046 - val_accuracy: 0.7278\n",
      "Epoch 23/25\n",
      "323/323 [==============================] - 1s 3ms/step - loss: 0.6167 - f1: 0.6261 - accuracy: 0.6826 - val_loss: 0.5673 - val_f1: 0.7028 - val_accuracy: 0.7272\n",
      "Epoch 24/25\n",
      "323/323 [==============================] - 1s 3ms/step - loss: 0.6121 - f1: 0.6150 - accuracy: 0.6805 - val_loss: 0.5661 - val_f1: 0.7142 - val_accuracy: 0.7237\n",
      "Epoch 25/25\n",
      "323/323 [==============================] - 1s 3ms/step - loss: 0.6228 - f1: 0.6048 - accuracy: 0.6679 - val_loss: 0.5762 - val_f1: 0.6683 - val_accuracy: 0.7174\n"
     ]
    }
   ],
   "source": [
    "# cell with data read, split it into train and test parts and teach the models\n",
    "\n",
    "df = PrepareData.get_data()\n",
    "\n",
    "df = df.dropna()\n",
    "y = df['nextday_rainfall']\n",
    "X = df.drop('nextday_rainfall', axis=1)\n",
    "\n",
    "X_train, X_test, y_train, y_test = train_test_split(X, y, test_size=0.25, stratify=y)\n",
    "\n",
    "models = teach_models(X_train, y_train)"
   ],
   "metadata": {
    "collapsed": false,
    "pycharm": {
     "name": "#%%\n"
    }
   }
  },
  {
   "cell_type": "code",
   "execution_count": 16,
   "outputs": [
    {
     "name": "stdout",
     "output_type": "stream",
     "text": [
      "1/1 [==============================] - 0s 116ms/step\n",
      "Tomorrow will be rainy\n"
     ]
    }
   ],
   "source": [
    "# simple usage of 'predict_tomorrow_weather' method\n",
    "\n",
    "result=predict_tomorrow_weather([models[0],models[1],models[2]])\n",
    "print(result)"
   ],
   "metadata": {
    "collapsed": false,
    "pycharm": {
     "name": "#%%\n"
    }
   }
  },
  {
   "cell_type": "code",
   "execution_count": 16,
   "outputs": [],
   "source": [],
   "metadata": {
    "collapsed": false,
    "pycharm": {
     "name": "#%%\n"
    }
   }
  }
 ],
 "metadata": {
  "kernelspec": {
   "display_name": "Python 3",
   "language": "python",
   "name": "python3"
  },
  "language_info": {
   "codemirror_mode": {
    "name": "ipython",
    "version": 2
   },
   "file_extension": ".py",
   "mimetype": "text/x-python",
   "name": "python",
   "nbconvert_exporter": "python",
   "pygments_lexer": "ipython2",
   "version": "2.7.6"
  }
 },
 "nbformat": 4,
 "nbformat_minor": 0
}