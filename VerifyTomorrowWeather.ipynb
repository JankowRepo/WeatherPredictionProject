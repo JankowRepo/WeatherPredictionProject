{
 "cells": [
  {
   "cell_type": "code",
   "execution_count": 11,
   "metadata": {
    "collapsed": true
   },
   "outputs": [
    {
     "data": {
      "text/plain": "<module 'PrepareData' from 'C:\\\\Users\\\\Adam\\\\source\\\\repos\\\\WeatherPrediction\\\\WeatherPredictionProject\\\\PrepareData.py'>"
     },
     "execution_count": 11,
     "metadata": {},
     "output_type": "execute_result"
    }
   ],
   "source": [
    "from sklearn.model_selection import train_test_split\n",
    "from imblearn.combine import SMOTETomek\n",
    "import MachineLearning as ML\n",
    "import PrepareData\n",
    "import DB_reader\n",
    "import importlib\n",
    "\n",
    "importlib.reload(ML)\n",
    "importlib.reload(PrepareData)"
   ]
  },
  {
   "cell_type": "code",
   "execution_count": 12,
   "outputs": [],
   "source": [
    "# method 'teach_models' takes the data and tech all models with it\n",
    "\n",
    "def teach_models(X_train, y_train):\n",
    "    models=[]\n",
    "\n",
    "    X_train, y_train = SMOTETomek().fit_resample(X_train, y_train)\n",
    "\n",
    "    models.append(ML.NeuralNetworks(X_train, y_train))\n",
    "    models.append(ML.KNN(X_train, y_train))\n",
    "    models.append(ML.DecisionTree(X_train, y_train))\n",
    "    models.append(ML.LinearRegressionModel(X_train, y_train))\n",
    "    models.append(ML.LogisticRegressionModel(X_train, y_train))\n",
    "    models.append(ML.RandomForest(X_train, y_train))\n",
    "    models.append(ML.SupportVectorMachines(X_train, y_train))\n",
    "    models.append(ML.SupportVectorRegression(X_train, y_train))\n",
    "    models.append(ML.TreeGradientBoosting(X_train, y_train))\n",
    "\n",
    "    return models"
   ],
   "metadata": {
    "collapsed": false,
    "pycharm": {
     "name": "#%%\n"
    }
   }
  },
  {
   "cell_type": "code",
   "execution_count": 13,
   "outputs": [],
   "source": [
    "# method 'predict_tomorrow_weather' predicts rainfall of next day. Result equal 1 means it will be rainy, otherwise not.\n",
    "# Its possible to predict result with single model or with ensable learing (more than 1 model)\n",
    "\n",
    "def predict_tomorrow_weather(models):\n",
    "    results=[]\n",
    "    today_data=DB_reader.getWeatherForecast()\n",
    "    today_data=PrepareData.standarize_row(today_data, df.iloc[:,1:].columns.values)\n",
    "\n",
    "    for model in models:\n",
    "        results.append(model.predict(today_data)>0.5)\n",
    "    result=(sum(results)/len(results))>0.5\n",
    "\n",
    "    answer=\"Tomorrow will be rainy\" if result else \"Tomorrow will be sunny\"\n",
    "    return answer"
   ],
   "metadata": {
    "collapsed": false,
    "pycharm": {
     "name": "#%%\n"
    }
   }
  },
  {
   "cell_type": "code",
   "execution_count": 14,
   "outputs": [
    {
     "name": "stdout",
     "output_type": "stream",
     "text": [
      "Epoch 1/25\n",
      "326/326 [==============================] - 5s 6ms/step - loss: 0.6906 - f1: 0.4710 - accuracy: 0.5222 - val_loss: 0.6785 - val_f1: 0.6828 - val_accuracy: 0.6703\n",
      "Epoch 2/25\n",
      "326/326 [==============================] - 1s 4ms/step - loss: 0.6748 - f1: 0.5286 - accuracy: 0.5931 - val_loss: 0.6434 - val_f1: 0.6916 - val_accuracy: 0.6795\n",
      "Epoch 3/25\n",
      "326/326 [==============================] - 1s 3ms/step - loss: 0.6644 - f1: 0.5327 - accuracy: 0.6163 - val_loss: 0.6565 - val_f1: 0.5224 - val_accuracy: 0.6392\n",
      "Epoch 4/25\n",
      "326/326 [==============================] - 1s 4ms/step - loss: 0.6553 - f1: 0.5445 - accuracy: 0.6304 - val_loss: 0.6236 - val_f1: 0.6916 - val_accuracy: 0.6888\n",
      "Epoch 5/25\n",
      "326/326 [==============================] - 1s 3ms/step - loss: 0.6490 - f1: 0.5870 - accuracy: 0.6417 - val_loss: 0.6237 - val_f1: 0.6515 - val_accuracy: 0.6830\n",
      "Epoch 6/25\n",
      "326/326 [==============================] - 1s 4ms/step - loss: 0.6443 - f1: 0.5915 - accuracy: 0.6471 - val_loss: 0.6182 - val_f1: 0.6657 - val_accuracy: 0.6847\n",
      "Epoch 7/25\n",
      "326/326 [==============================] - 1s 3ms/step - loss: 0.6403 - f1: 0.6099 - accuracy: 0.6453 - val_loss: 0.6101 - val_f1: 0.7003 - val_accuracy: 0.6922\n",
      "Epoch 8/25\n",
      "326/326 [==============================] - 1s 3ms/step - loss: 0.6340 - f1: 0.6366 - accuracy: 0.6663 - val_loss: 0.6033 - val_f1: 0.6986 - val_accuracy: 0.6778\n",
      "Epoch 9/25\n",
      "326/326 [==============================] - 1s 3ms/step - loss: 0.6280 - f1: 0.6310 - accuracy: 0.6594 - val_loss: 0.6011 - val_f1: 0.7052 - val_accuracy: 0.6841\n",
      "Epoch 10/25\n",
      "326/326 [==============================] - 1s 3ms/step - loss: 0.6248 - f1: 0.6395 - accuracy: 0.6674 - val_loss: 0.5925 - val_f1: 0.6913 - val_accuracy: 0.6968\n",
      "Epoch 11/25\n",
      "326/326 [==============================] - 1s 3ms/step - loss: 0.6226 - f1: 0.6395 - accuracy: 0.6655 - val_loss: 0.6008 - val_f1: 0.6665 - val_accuracy: 0.6974\n",
      "Epoch 12/25\n",
      "326/326 [==============================] - 1s 4ms/step - loss: 0.6211 - f1: 0.6426 - accuracy: 0.6717 - val_loss: 0.5905 - val_f1: 0.7005 - val_accuracy: 0.7061\n",
      "Epoch 13/25\n",
      "326/326 [==============================] - 1s 4ms/step - loss: 0.6251 - f1: 0.6441 - accuracy: 0.6701 - val_loss: 0.5876 - val_f1: 0.7109 - val_accuracy: 0.7066\n",
      "Epoch 14/25\n",
      "326/326 [==============================] - 1s 4ms/step - loss: 0.6237 - f1: 0.6311 - accuracy: 0.6632 - val_loss: 0.5832 - val_f1: 0.7106 - val_accuracy: 0.7061\n",
      "Epoch 15/25\n",
      "326/326 [==============================] - 1s 4ms/step - loss: 0.6225 - f1: 0.6442 - accuracy: 0.6720 - val_loss: 0.5784 - val_f1: 0.7250 - val_accuracy: 0.7037\n",
      "Epoch 16/25\n",
      "326/326 [==============================] - 1s 4ms/step - loss: 0.6160 - f1: 0.6453 - accuracy: 0.6811 - val_loss: 0.5708 - val_f1: 0.7100 - val_accuracy: 0.7205\n",
      "Epoch 17/25\n",
      "326/326 [==============================] - 2s 5ms/step - loss: 0.6146 - f1: 0.6564 - accuracy: 0.6820 - val_loss: 0.5660 - val_f1: 0.7216 - val_accuracy: 0.7326\n",
      "Epoch 18/25\n",
      "326/326 [==============================] - 1s 4ms/step - loss: 0.6073 - f1: 0.6553 - accuracy: 0.6866 - val_loss: 0.5614 - val_f1: 0.7300 - val_accuracy: 0.7314\n",
      "Epoch 19/25\n",
      "326/326 [==============================] - 1s 3ms/step - loss: 0.6100 - f1: 0.6550 - accuracy: 0.6815 - val_loss: 0.5586 - val_f1: 0.7318 - val_accuracy: 0.7337\n",
      "Epoch 20/25\n",
      "326/326 [==============================] - 1s 3ms/step - loss: 0.6071 - f1: 0.6483 - accuracy: 0.6840 - val_loss: 0.5654 - val_f1: 0.7338 - val_accuracy: 0.7378\n",
      "Epoch 21/25\n",
      "326/326 [==============================] - 1s 3ms/step - loss: 0.6075 - f1: 0.6643 - accuracy: 0.6913 - val_loss: 0.5730 - val_f1: 0.7364 - val_accuracy: 0.7418\n",
      "Epoch 22/25\n",
      "326/326 [==============================] - 1s 3ms/step - loss: 0.6051 - f1: 0.6669 - accuracy: 0.6911 - val_loss: 0.5587 - val_f1: 0.6972 - val_accuracy: 0.7297\n",
      "Epoch 23/25\n",
      "326/326 [==============================] - 1s 3ms/step - loss: 0.6076 - f1: 0.6648 - accuracy: 0.6876 - val_loss: 0.5648 - val_f1: 0.7123 - val_accuracy: 0.7343\n",
      "Epoch 24/25\n",
      "326/326 [==============================] - 1s 3ms/step - loss: 0.6042 - f1: 0.6553 - accuracy: 0.6843 - val_loss: 0.5639 - val_f1: 0.7067 - val_accuracy: 0.7349\n",
      "Epoch 25/25\n",
      "326/326 [==============================] - 1s 3ms/step - loss: 0.5987 - f1: 0.6691 - accuracy: 0.6936 - val_loss: 0.5582 - val_f1: 0.7423 - val_accuracy: 0.7285\n"
     ]
    }
   ],
   "source": [
    "# cell with data read, split it into train and test parts and teach the models\n",
    "\n",
    "df = PrepareData.get_data()\n",
    "\n",
    "df = df.dropna()\n",
    "y = df['nextday_rainfall']\n",
    "X = df.drop('nextday_rainfall', axis=1)\n",
    "\n",
    "X_train, X_test, y_train, y_test = train_test_split(X, y, test_size=0.25, stratify=y)\n",
    "\n",
    "models = teach_models(X_train, y_train)"
   ],
   "metadata": {
    "collapsed": false,
    "pycharm": {
     "name": "#%%\n"
    }
   }
  },
  {
   "cell_type": "code",
   "execution_count": 15,
   "outputs": [
    {
     "name": "stdout",
     "output_type": "stream",
     "text": [
      "1/1 [==============================] - 0s 117ms/step\n",
      "Tomorrow will be rainy\n"
     ]
    }
   ],
   "source": [
    "# simple usage of 'predict_tomorrow_weather' method\n",
    "\n",
    "result=predict_tomorrow_weather([models[0],models[1],models[2]])\n",
    "print(result)"
   ],
   "metadata": {
    "collapsed": false,
    "pycharm": {
     "name": "#%%\n"
    }
   }
  }
 ],
 "metadata": {
  "kernelspec": {
   "display_name": "Python 3",
   "language": "python",
   "name": "python3"
  },
  "language_info": {
   "codemirror_mode": {
    "name": "ipython",
    "version": 2
   },
   "file_extension": ".py",
   "mimetype": "text/x-python",
   "name": "python",
   "nbconvert_exporter": "python",
   "pygments_lexer": "ipython2",
   "version": "2.7.6"
  }
 },
 "nbformat": 4,
 "nbformat_minor": 0
}