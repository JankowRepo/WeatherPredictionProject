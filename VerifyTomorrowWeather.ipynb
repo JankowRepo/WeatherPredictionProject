{
 "cells": [
  {
   "cell_type": "code",
   "execution_count": 1,
   "metadata": {
    "collapsed": true
   },
   "outputs": [
    {
     "data": {
      "text/plain": "<module 'PrepareData' from 'C:\\\\Users\\\\Adam\\\\source\\\\repos\\\\WeatherPrediction\\\\WeatherPredictionProject\\\\PrepareData.py'>"
     },
     "execution_count": 1,
     "metadata": {},
     "output_type": "execute_result"
    }
   ],
   "source": [
    "from sklearn.model_selection import train_test_split\n",
    "from imblearn.combine import SMOTETomek\n",
    "import MachineLearning as ML\n",
    "import PrepareData\n",
    "import DB_reader\n",
    "import importlib\n",
    "\n",
    "importlib.reload(ML)\n",
    "importlib.reload(PrepareData)"
   ]
  },
  {
   "cell_type": "code",
   "execution_count": 2,
   "outputs": [],
   "source": [
    "# method 'teach_models' takes the data and tech all models with it\n",
    "\n",
    "def teach_models(X_train, y_train):\n",
    "    models=[]\n",
    "\n",
    "    X_train, y_train = SMOTETomek().fit_resample(X_train, y_train)\n",
    "\n",
    "    models.append(ML.NeuralNetworks(X_train, y_train))\n",
    "    models.append(ML.KNN(X_train, y_train))\n",
    "    models.append(ML.DecisionTree(X_train, y_train))\n",
    "    models.append(ML.LinearRegressionModel(X_train, y_train))\n",
    "    models.append(ML.LogisticRegressionModel(X_train, y_train))\n",
    "    models.append(ML.RandomForest(X_train, y_train))\n",
    "    models.append(ML.SupportVectorMachines(X_train, y_train))\n",
    "    models.append(ML.SupportVectorRegression(X_train, y_train))\n",
    "    models.append(ML.TreeGradientBoosting(X_train, y_train))\n",
    "\n",
    "    return models"
   ],
   "metadata": {
    "collapsed": false,
    "pycharm": {
     "name": "#%%\n"
    }
   }
  },
  {
   "cell_type": "code",
   "execution_count": 3,
   "outputs": [],
   "source": [
    "# method 'predict_tomorrow_weather' predicts rainfall of next day. Result equal 1 means it will be rainy, otherwise not.\n",
    "# Its possible to predict result with single model or with ensable learing (more than 1 model)\n",
    "\n",
    "def predict_tomorrow_weather(models):\n",
    "    results=[]\n",
    "    today_data=DB_reader.getWeatherForecast()\n",
    "    today_data=PrepareData.standarize_row(today_data, df.iloc[:,1:].columns.values)\n",
    "\n",
    "    for model in models:\n",
    "        results.append(model.predict(today_data)>0.5)\n",
    "    result=(sum(results)/len(results))>0.5\n",
    "\n",
    "    answer=\"Tomorrow will be rainy\" if result else \"Tomorrow will be sunny\"\n",
    "    return answer"
   ],
   "metadata": {
    "collapsed": false,
    "pycharm": {
     "name": "#%%\n"
    }
   }
  },
  {
   "cell_type": "code",
   "execution_count": 4,
   "outputs": [
    {
     "name": "stdout",
     "output_type": "stream",
     "text": [
      "Epoch 1/25\n",
      "325/325 [==============================] - 3s 4ms/step - loss: 0.6909 - f1: 0.4410 - accuracy: 0.5210 - val_loss: 0.6761 - val_f1: 0.6664 - val_accuracy: 0.6905\n",
      "Epoch 2/25\n",
      "325/325 [==============================] - 1s 3ms/step - loss: 0.6759 - f1: 0.5795 - accuracy: 0.5681 - val_loss: 0.6467 - val_f1: 0.7031 - val_accuracy: 0.6830\n",
      "Epoch 3/25\n",
      "325/325 [==============================] - 1s 3ms/step - loss: 0.6561 - f1: 0.6237 - accuracy: 0.6085 - val_loss: 0.6246 - val_f1: 0.6146 - val_accuracy: 0.6761\n",
      "Epoch 4/25\n",
      "325/325 [==============================] - 1s 3ms/step - loss: 0.6499 - f1: 0.6586 - accuracy: 0.6349 - val_loss: 0.6113 - val_f1: 0.6968 - val_accuracy: 0.6963\n",
      "Epoch 5/25\n",
      "325/325 [==============================] - 1s 3ms/step - loss: 0.6416 - f1: 0.6686 - accuracy: 0.6453 - val_loss: 0.5979 - val_f1: 0.6836 - val_accuracy: 0.6946\n",
      "Epoch 6/25\n",
      "325/325 [==============================] - 1s 3ms/step - loss: 0.6349 - f1: 0.6807 - accuracy: 0.6592 - val_loss: 0.6088 - val_f1: 0.7097 - val_accuracy: 0.6865\n",
      "Epoch 7/25\n",
      "325/325 [==============================] - 1s 3ms/step - loss: 0.6331 - f1: 0.6808 - accuracy: 0.6630 - val_loss: 0.5981 - val_f1: 0.6995 - val_accuracy: 0.7009\n",
      "Epoch 8/25\n",
      "325/325 [==============================] - 1s 3ms/step - loss: 0.6230 - f1: 0.6854 - accuracy: 0.6697 - val_loss: 0.5853 - val_f1: 0.6884 - val_accuracy: 0.7102\n",
      "Epoch 9/25\n",
      "325/325 [==============================] - 1s 3ms/step - loss: 0.6248 - f1: 0.6850 - accuracy: 0.6659 - val_loss: 0.5817 - val_f1: 0.7087 - val_accuracy: 0.7148\n",
      "Epoch 10/25\n",
      "325/325 [==============================] - 1s 3ms/step - loss: 0.6211 - f1: 0.6860 - accuracy: 0.6661 - val_loss: 0.5838 - val_f1: 0.6828 - val_accuracy: 0.7119\n",
      "Epoch 11/25\n",
      "325/325 [==============================] - 1s 3ms/step - loss: 0.6149 - f1: 0.6945 - accuracy: 0.6842 - val_loss: 0.5797 - val_f1: 0.7121 - val_accuracy: 0.7217\n",
      "Epoch 12/25\n",
      "325/325 [==============================] - 1s 3ms/step - loss: 0.6115 - f1: 0.6916 - accuracy: 0.6811 - val_loss: 0.5664 - val_f1: 0.6992 - val_accuracy: 0.7194\n",
      "Epoch 13/25\n",
      "325/325 [==============================] - 1s 3ms/step - loss: 0.6118 - f1: 0.6891 - accuracy: 0.6794 - val_loss: 0.5792 - val_f1: 0.7192 - val_accuracy: 0.7234\n",
      "Epoch 14/25\n",
      "325/325 [==============================] - 1s 3ms/step - loss: 0.6127 - f1: 0.6923 - accuracy: 0.6859 - val_loss: 0.5677 - val_f1: 0.7157 - val_accuracy: 0.7338\n",
      "Epoch 15/25\n",
      "325/325 [==============================] - 1s 3ms/step - loss: 0.6054 - f1: 0.6950 - accuracy: 0.6851 - val_loss: 0.5587 - val_f1: 0.7179 - val_accuracy: 0.7281\n",
      "Epoch 16/25\n",
      "325/325 [==============================] - 1s 3ms/step - loss: 0.5992 - f1: 0.6922 - accuracy: 0.6894 - val_loss: 0.5549 - val_f1: 0.7122 - val_accuracy: 0.7304\n",
      "Epoch 17/25\n",
      "325/325 [==============================] - 1s 3ms/step - loss: 0.6099 - f1: 0.7050 - accuracy: 0.6950 - val_loss: 0.5663 - val_f1: 0.7167 - val_accuracy: 0.7286\n",
      "Epoch 18/25\n",
      "325/325 [==============================] - 1s 3ms/step - loss: 0.6055 - f1: 0.7027 - accuracy: 0.6940 - val_loss: 0.5569 - val_f1: 0.7190 - val_accuracy: 0.7344\n",
      "Epoch 19/25\n",
      "325/325 [==============================] - 1s 3ms/step - loss: 0.6019 - f1: 0.6981 - accuracy: 0.6996 - val_loss: 0.5625 - val_f1: 0.7149 - val_accuracy: 0.7263\n",
      "Epoch 20/25\n",
      "325/325 [==============================] - 1s 3ms/step - loss: 0.5932 - f1: 0.7029 - accuracy: 0.7027 - val_loss: 0.5655 - val_f1: 0.6918 - val_accuracy: 0.7229\n",
      "Epoch 21/25\n",
      "325/325 [==============================] - 1s 3ms/step - loss: 0.5985 - f1: 0.6971 - accuracy: 0.6950 - val_loss: 0.5617 - val_f1: 0.7106 - val_accuracy: 0.7275\n",
      "Epoch 22/25\n",
      "325/325 [==============================] - 1s 3ms/step - loss: 0.6014 - f1: 0.6998 - accuracy: 0.6971 - val_loss: 0.5649 - val_f1: 0.6736 - val_accuracy: 0.7188\n",
      "Epoch 23/25\n",
      "325/325 [==============================] - 1s 3ms/step - loss: 0.5990 - f1: 0.6905 - accuracy: 0.6926 - val_loss: 0.5548 - val_f1: 0.7204 - val_accuracy: 0.7298\n",
      "Epoch 24/25\n",
      "325/325 [==============================] - 1s 3ms/step - loss: 0.5931 - f1: 0.6976 - accuracy: 0.6980 - val_loss: 0.5614 - val_f1: 0.6659 - val_accuracy: 0.7154\n",
      "Epoch 25/25\n",
      "325/325 [==============================] - 1s 3ms/step - loss: 0.5956 - f1: 0.7082 - accuracy: 0.7069 - val_loss: 0.5550 - val_f1: 0.6890 - val_accuracy: 0.7206\n"
     ]
    }
   ],
   "source": [
    "# cell with data read, split it into train and test parts and teach the models\n",
    "\n",
    "df = PrepareData.get_data()\n",
    "\n",
    "df = df.dropna()\n",
    "y = df['nextday_rainfall']\n",
    "X = df.drop('nextday_rainfall', axis=1)\n",
    "\n",
    "X_train, X_test, y_train, y_test = train_test_split(X, y, test_size=0.25, stratify=y)\n",
    "\n",
    "models = teach_models(X_train, y_train)"
   ],
   "metadata": {
    "collapsed": false,
    "pycharm": {
     "name": "#%%\n"
    }
   }
  },
  {
   "cell_type": "code",
   "execution_count": 5,
   "outputs": [
    {
     "name": "stdout",
     "output_type": "stream",
     "text": [
      "1/1 [==============================] - 0s 132ms/step\n",
      "Tomorrow will be rainy\n"
     ]
    }
   ],
   "source": [
    "# simple usage of 'predict_tomorrow_weather' method\n",
    "\n",
    "result=predict_tomorrow_weather([models[0],models[1],models[2]])\n",
    "print(result)"
   ],
   "metadata": {
    "collapsed": false,
    "pycharm": {
     "name": "#%%\n"
    }
   }
  }
 ],
 "metadata": {
  "kernelspec": {
   "display_name": "Python 3",
   "language": "python",
   "name": "python3"
  },
  "language_info": {
   "codemirror_mode": {
    "name": "ipython",
    "version": 2
   },
   "file_extension": ".py",
   "mimetype": "text/x-python",
   "name": "python",
   "nbconvert_exporter": "python",
   "pygments_lexer": "ipython2",
   "version": "2.7.6"
  }
 },
 "nbformat": 4,
 "nbformat_minor": 0
}