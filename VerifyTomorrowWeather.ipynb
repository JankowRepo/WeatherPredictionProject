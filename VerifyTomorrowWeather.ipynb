{
 "cells": [
  {
   "cell_type": "code",
   "execution_count": 6,
   "metadata": {
    "collapsed": true
   },
   "outputs": [],
   "source": [
    "from sklearn.model_selection import train_test_split\n",
    "from imblearn.combine import SMOTETomek\n",
    "import MachineLearning as ML\n",
    "import PrepareData\n",
    "import DB_reader\n",
    "\n",
    "import importlib"
   ]
  },
  {
   "cell_type": "code",
   "execution_count": 7,
   "outputs": [],
   "source": [
    "importlib.reload(ML)\n",
    "\n",
    "def teach_models(X_train, y_train):\n",
    "    models=[]\n",
    "\n",
    "    X_train, y_train = SMOTETomek().fit_resample(X_train, y_train)\n",
    "\n",
    "    models.append(ML.NeuralNetworks(X_train, y_train))\n",
    "    models.append(ML.KNN(X_train, y_train))\n",
    "    models.append(ML.DecisionTree(X_train, y_train))\n",
    "    models.append(ML.LinearRegressionModel(X_train, y_train))\n",
    "    models.append(ML.LogisticRegressionModel(X_train, y_train))\n",
    "    models.append(ML.RandomForest(X_train, y_train))\n",
    "    models.append(ML.SupportVectorMachines(X_train, y_train))\n",
    "    models.append(ML.SupportVectorRegression(X_train, y_train))\n",
    "    models.append(ML.TreeGradientBoosting(X_train, y_train))\n",
    "\n",
    "    return models"
   ],
   "metadata": {
    "collapsed": false,
    "pycharm": {
     "name": "#%%\n"
    }
   }
  },
  {
   "cell_type": "code",
   "execution_count": 8,
   "outputs": [],
   "source": [
    "def predict_tomorrow_weather(models):\n",
    "    results=[]\n",
    "    today_data=DB_reader.getWeatherForecast()\n",
    "    today_data=PrepareData.standarize_row(today_data, df.iloc[:,1:].columns.values)\n",
    "\n",
    "    if type(models)==list:\n",
    "        for model in models:\n",
    "            results.append(model.predict(today_data)>0.5)\n",
    "        result=(sum(results)/len(results))>0.5\n",
    "\n",
    "    else:\n",
    "        result=models.predict(today_data)>0.5\n",
    "\n",
    "    answer=\"Tomorrow will be rainy\" if result else \"Tomorrow will be sunny\"\n",
    "    return answer"
   ],
   "metadata": {
    "collapsed": false,
    "pycharm": {
     "name": "#%%\n"
    }
   }
  },
  {
   "cell_type": "code",
   "execution_count": 9,
   "outputs": [
    {
     "name": "stdout",
     "output_type": "stream",
     "text": [
      "Epoch 1/25\n",
      "328/328 [==============================] - 3s 4ms/step - loss: 0.6935 - f1: 0.4418 - accuracy: 0.5037 - val_loss: 0.6929 - val_f1: 0.0000e+00 - val_accuracy: 0.5003\n",
      "Epoch 2/25\n",
      "328/328 [==============================] - 1s 4ms/step - loss: 0.6933 - f1: 0.4678 - accuracy: 0.4961 - val_loss: 0.6926 - val_f1: 0.0000e+00 - val_accuracy: 0.5003\n",
      "Epoch 3/25\n",
      "328/328 [==============================] - 1s 4ms/step - loss: 0.6926 - f1: 0.3965 - accuracy: 0.5138 - val_loss: 0.6906 - val_f1: 0.6596 - val_accuracy: 0.5049\n",
      "Epoch 4/25\n",
      "328/328 [==============================] - 1s 4ms/step - loss: 0.6887 - f1: 0.4827 - accuracy: 0.5434 - val_loss: 0.6776 - val_f1: 0.7077 - val_accuracy: 0.6867\n",
      "Epoch 5/25\n",
      "328/328 [==============================] - 1s 3ms/step - loss: 0.6770 - f1: 0.4988 - accuracy: 0.5828 - val_loss: 0.6658 - val_f1: 0.5404 - val_accuracy: 0.6306\n",
      "Epoch 6/25\n",
      "328/328 [==============================] - 1s 3ms/step - loss: 0.6699 - f1: 0.4940 - accuracy: 0.6059 - val_loss: 0.6529 - val_f1: 0.6381 - val_accuracy: 0.6690\n",
      "Epoch 7/25\n",
      "328/328 [==============================] - 1s 4ms/step - loss: 0.6690 - f1: 0.5191 - accuracy: 0.6116 - val_loss: 0.6393 - val_f1: 0.6864 - val_accuracy: 0.6798\n",
      "Epoch 8/25\n",
      "328/328 [==============================] - 1s 4ms/step - loss: 0.6634 - f1: 0.4928 - accuracy: 0.6116 - val_loss: 0.6386 - val_f1: 0.6819 - val_accuracy: 0.6850\n",
      "Epoch 9/25\n",
      "328/328 [==============================] - 1s 3ms/step - loss: 0.6536 - f1: 0.5165 - accuracy: 0.6147 - val_loss: 0.6380 - val_f1: 0.6378 - val_accuracy: 0.6701\n",
      "Epoch 10/25\n",
      "328/328 [==============================] - 1s 3ms/step - loss: 0.6428 - f1: 0.5890 - accuracy: 0.6376 - val_loss: 0.6192 - val_f1: 0.6868 - val_accuracy: 0.6861\n",
      "Epoch 11/25\n",
      "328/328 [==============================] - 1s 3ms/step - loss: 0.6343 - f1: 0.6216 - accuracy: 0.6448 - val_loss: 0.6132 - val_f1: 0.6852 - val_accuracy: 0.6855\n",
      "Epoch 12/25\n",
      "328/328 [==============================] - 1s 4ms/step - loss: 0.6333 - f1: 0.6744 - accuracy: 0.6553 - val_loss: 0.6067 - val_f1: 0.6958 - val_accuracy: 0.6901\n",
      "Epoch 13/25\n",
      "328/328 [==============================] - 1s 3ms/step - loss: 0.6325 - f1: 0.6467 - accuracy: 0.6450 - val_loss: 0.6129 - val_f1: 0.7152 - val_accuracy: 0.6878\n",
      "Epoch 14/25\n",
      "328/328 [==============================] - 1s 3ms/step - loss: 0.6282 - f1: 0.6781 - accuracy: 0.6652 - val_loss: 0.5999 - val_f1: 0.6910 - val_accuracy: 0.6930\n",
      "Epoch 15/25\n",
      "328/328 [==============================] - 1s 3ms/step - loss: 0.6230 - f1: 0.6880 - accuracy: 0.6745 - val_loss: 0.6024 - val_f1: 0.6664 - val_accuracy: 0.6924\n",
      "Epoch 16/25\n",
      "328/328 [==============================] - 1s 3ms/step - loss: 0.6151 - f1: 0.6721 - accuracy: 0.6696 - val_loss: 0.6015 - val_f1: 0.7221 - val_accuracy: 0.6998\n",
      "Epoch 17/25\n",
      "328/328 [==============================] - 1s 3ms/step - loss: 0.6136 - f1: 0.6776 - accuracy: 0.6734 - val_loss: 0.5884 - val_f1: 0.7102 - val_accuracy: 0.7113\n",
      "Epoch 18/25\n",
      "328/328 [==============================] - 1s 4ms/step - loss: 0.6113 - f1: 0.6726 - accuracy: 0.6736 - val_loss: 0.5895 - val_f1: 0.7149 - val_accuracy: 0.7130\n",
      "Epoch 19/25\n",
      "328/328 [==============================] - 1s 4ms/step - loss: 0.6129 - f1: 0.6801 - accuracy: 0.6768 - val_loss: 0.5881 - val_f1: 0.6838 - val_accuracy: 0.7027\n",
      "Epoch 20/25\n",
      "328/328 [==============================] - 1s 4ms/step - loss: 0.6011 - f1: 0.6600 - accuracy: 0.6827 - val_loss: 0.5745 - val_f1: 0.6983 - val_accuracy: 0.7153\n",
      "Epoch 21/25\n",
      "328/328 [==============================] - 1s 4ms/step - loss: 0.6019 - f1: 0.6611 - accuracy: 0.6908 - val_loss: 0.5858 - val_f1: 0.5807 - val_accuracy: 0.6815\n",
      "Epoch 22/25\n",
      "328/328 [==============================] - 1s 4ms/step - loss: 0.6038 - f1: 0.6543 - accuracy: 0.6820 - val_loss: 0.5847 - val_f1: 0.6077 - val_accuracy: 0.6884\n",
      "Epoch 23/25\n",
      "328/328 [==============================] - 1s 4ms/step - loss: 0.5930 - f1: 0.6682 - accuracy: 0.6938 - val_loss: 0.5716 - val_f1: 0.6668 - val_accuracy: 0.7067\n",
      "Epoch 24/25\n",
      "328/328 [==============================] - 2s 6ms/step - loss: 0.5953 - f1: 0.6653 - accuracy: 0.6929 - val_loss: 0.5817 - val_f1: 0.6133 - val_accuracy: 0.6918\n",
      "Epoch 25/25\n",
      "328/328 [==============================] - 2s 5ms/step - loss: 0.5933 - f1: 0.6505 - accuracy: 0.6972 - val_loss: 0.5733 - val_f1: 0.6573 - val_accuracy: 0.7055\n"
     ]
    }
   ],
   "source": [
    "importlib.reload(PrepareData)\n",
    "\n",
    "df = PrepareData.get_data()\n",
    "\n",
    "df = df.dropna()\n",
    "y = df['nextday_rainfall']\n",
    "X = df.drop('nextday_rainfall', axis=1)\n",
    "\n",
    "X_train, X_test, y_train, y_test = train_test_split(X, y, test_size=0.25, stratify=y)\n",
    "\n",
    "models = teach_models(X_train, y_train)"
   ],
   "metadata": {
    "collapsed": false,
    "pycharm": {
     "name": "#%%\n"
    }
   }
  },
  {
   "cell_type": "code",
   "execution_count": 10,
   "outputs": [
    {
     "name": "stdout",
     "output_type": "stream",
     "text": [
      "1/1 [==============================] - 0s 107ms/step\n",
      "Tomorrow will be rainy\n"
     ]
    }
   ],
   "source": [
    "result=predict_tomorrow_weather(models)\n",
    "print(result)"
   ],
   "metadata": {
    "collapsed": false,
    "pycharm": {
     "name": "#%%\n"
    }
   }
  }
 ],
 "metadata": {
  "kernelspec": {
   "display_name": "Python 3",
   "language": "python",
   "name": "python3"
  },
  "language_info": {
   "codemirror_mode": {
    "name": "ipython",
    "version": 2
   },
   "file_extension": ".py",
   "mimetype": "text/x-python",
   "name": "python",
   "nbconvert_exporter": "python",
   "pygments_lexer": "ipython2",
   "version": "2.7.6"
  }
 },
 "nbformat": 4,
 "nbformat_minor": 0
}