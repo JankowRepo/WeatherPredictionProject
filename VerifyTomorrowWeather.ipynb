{
 "cells": [
  {
   "cell_type": "code",
   "execution_count": 12,
   "metadata": {
    "collapsed": true
   },
   "outputs": [
    {
     "data": {
      "text/plain": "<module 'PrepareData' from 'C:\\\\Users\\\\Adam\\\\source\\\\repos\\\\WeatherPrediction\\\\WeatherPredictionProject\\\\PrepareData.py'>"
     },
     "execution_count": 12,
     "metadata": {},
     "output_type": "execute_result"
    }
   ],
   "source": [
    "from sklearn.model_selection import train_test_split\n",
    "from imblearn.combine import SMOTETomek\n",
    "import MachineLearning as ML\n",
    "import PrepareData\n",
    "import DB_reader\n",
    "import importlib\n",
    "\n",
    "importlib.reload(ML)\n",
    "importlib.reload(PrepareData)"
   ]
  },
  {
   "cell_type": "code",
   "execution_count": 13,
   "outputs": [],
   "source": [
    "# method 'teach_models' takes the data and tech all models with it\n",
    "\n",
    "def teach_models(X_train, y_train):\n",
    "    models=[]\n",
    "\n",
    "    X_train, y_train = SMOTETomek().fit_resample(X_train, y_train)\n",
    "\n",
    "    models.append(ML.NeuralNetworks(X_train, y_train))\n",
    "    models.append(ML.KNN(X_train, y_train))\n",
    "    models.append(ML.DecisionTree(X_train, y_train))\n",
    "    models.append(ML.LinearRegressionModel(X_train, y_train))\n",
    "    models.append(ML.LogisticRegressionModel(X_train, y_train))\n",
    "    models.append(ML.RandomForest(X_train, y_train))\n",
    "    models.append(ML.SupportVectorMachines(X_train, y_train))\n",
    "    models.append(ML.SupportVectorRegression(X_train, y_train))\n",
    "    models.append(ML.TreeGradientBoosting(X_train, y_train))\n",
    "\n",
    "    return models"
   ],
   "metadata": {
    "collapsed": false,
    "pycharm": {
     "name": "#%%\n"
    }
   }
  },
  {
   "cell_type": "code",
   "execution_count": 14,
   "outputs": [],
   "source": [
    "# method 'predict_tomorrow_weather' predicts rainfall of next day. Result equal 1 means it will be rainy, otherwise not.\n",
    "# Its possible to predict result with single model or with ensable learing (more than 1 model)\n",
    "\n",
    "def predict_tomorrow_weather(models):\n",
    "    results=[]\n",
    "    today_data=DB_reader.getWeatherForecast()\n",
    "    today_data=PrepareData.standarize_row(today_data, df.iloc[:,1:].columns.values)\n",
    "\n",
    "    for model in models:\n",
    "        results.append(model.predict(today_data)>0.5)\n",
    "    result=(sum(results)/len(results))>0.5\n",
    "\n",
    "    answer=\"Tomorrow will be rainy\" if result else \"Tomorrow will be sunny\"\n",
    "    return answer"
   ],
   "metadata": {
    "collapsed": false,
    "pycharm": {
     "name": "#%%\n"
    }
   }
  },
  {
   "cell_type": "code",
   "execution_count": 15,
   "outputs": [
    {
     "name": "stdout",
     "output_type": "stream",
     "text": [
      "Epoch 1/25\n",
      "328/328 [==============================] - 2s 3ms/step - loss: 0.1191 - f1: 0.6196 - accuracy: 0.5635 - val_loss: 0.1581 - val_f1: 0.1429 - val_accuracy: 0.1175\n",
      "Epoch 2/25\n",
      "328/328 [==============================] - 1s 2ms/step - loss: 0.1103 - f1: 0.6389 - accuracy: 0.5809 - val_loss: 0.1775 - val_f1: 0.1429 - val_accuracy: 0.1175\n",
      "Epoch 3/25\n",
      "328/328 [==============================] - 1s 2ms/step - loss: 0.1092 - f1: 0.6105 - accuracy: 0.5740 - val_loss: 0.1573 - val_f1: 0.1525 - val_accuracy: 0.5903\n",
      "Epoch 4/25\n",
      "328/328 [==============================] - 1s 2ms/step - loss: 0.1089 - f1: 0.5913 - accuracy: 0.5677 - val_loss: 0.1606 - val_f1: 0.1523 - val_accuracy: 0.5530\n",
      "Epoch 5/25\n",
      "328/328 [==============================] - 1s 2ms/step - loss: 0.1074 - f1: 0.5952 - accuracy: 0.5780 - val_loss: 0.1362 - val_f1: 0.1313 - val_accuracy: 0.8017\n",
      "Epoch 6/25\n",
      "328/328 [==============================] - 1s 3ms/step - loss: 0.1057 - f1: 0.6204 - accuracy: 0.6065 - val_loss: 0.1539 - val_f1: 0.1502 - val_accuracy: 0.6756\n",
      "Epoch 7/25\n",
      "328/328 [==============================] - 1s 2ms/step - loss: 0.1057 - f1: 0.6061 - accuracy: 0.5968 - val_loss: 0.1313 - val_f1: 0.1393 - val_accuracy: 0.7862\n",
      "Epoch 8/25\n",
      "328/328 [==============================] - 1s 2ms/step - loss: 0.1041 - f1: 0.6348 - accuracy: 0.6117 - val_loss: 0.1339 - val_f1: 0.1489 - val_accuracy: 0.7295\n",
      "Epoch 9/25\n",
      "328/328 [==============================] - 1s 2ms/step - loss: 0.1039 - f1: 0.6305 - accuracy: 0.6201 - val_loss: 0.1493 - val_f1: 0.1501 - val_accuracy: 0.7049\n",
      "Epoch 10/25\n",
      "328/328 [==============================] - 1s 2ms/step - loss: 0.1041 - f1: 0.6484 - accuracy: 0.6279 - val_loss: 0.1451 - val_f1: 0.1502 - val_accuracy: 0.6900\n",
      "Epoch 11/25\n",
      "328/328 [==============================] - 1s 2ms/step - loss: 0.1045 - f1: 0.6417 - accuracy: 0.6220 - val_loss: 0.1471 - val_f1: 0.1509 - val_accuracy: 0.7232\n",
      "Epoch 12/25\n",
      "328/328 [==============================] - 1s 2ms/step - loss: 0.1025 - f1: 0.6639 - accuracy: 0.6359 - val_loss: 0.1651 - val_f1: 0.1537 - val_accuracy: 0.6269\n",
      "Epoch 13/25\n",
      "328/328 [==============================] - 1s 2ms/step - loss: 0.1018 - f1: 0.6619 - accuracy: 0.6376 - val_loss: 0.1127 - val_f1: 0.1250 - val_accuracy: 0.8229\n",
      "Epoch 14/25\n",
      "328/328 [==============================] - 1s 3ms/step - loss: 0.1010 - f1: 0.6750 - accuracy: 0.6436 - val_loss: 0.1578 - val_f1: 0.1508 - val_accuracy: 0.6705\n",
      "Epoch 15/25\n",
      "328/328 [==============================] - 1s 3ms/step - loss: 0.1009 - f1: 0.6926 - accuracy: 0.6502 - val_loss: 0.1482 - val_f1: 0.1512 - val_accuracy: 0.6883\n",
      "Epoch 16/25\n",
      "328/328 [==============================] - 1s 3ms/step - loss: 0.0996 - f1: 0.6990 - accuracy: 0.6583 - val_loss: 0.1216 - val_f1: 0.1530 - val_accuracy: 0.7112\n",
      "Epoch 17/25\n",
      "328/328 [==============================] - 1s 2ms/step - loss: 0.0988 - f1: 0.7115 - accuracy: 0.6627 - val_loss: 0.1450 - val_f1: 0.1539 - val_accuracy: 0.6607\n",
      "Epoch 18/25\n",
      "328/328 [==============================] - 1s 2ms/step - loss: 0.0981 - f1: 0.7344 - accuracy: 0.6749 - val_loss: 0.1518 - val_f1: 0.1538 - val_accuracy: 0.6613\n",
      "Epoch 19/25\n",
      "328/328 [==============================] - 1s 2ms/step - loss: 0.0966 - f1: 0.7413 - accuracy: 0.6829 - val_loss: 0.1267 - val_f1: 0.1532 - val_accuracy: 0.7461\n",
      "Epoch 20/25\n",
      "328/328 [==============================] - 1s 2ms/step - loss: 0.0968 - f1: 0.7371 - accuracy: 0.6793 - val_loss: 0.1341 - val_f1: 0.1535 - val_accuracy: 0.6905\n",
      "Epoch 21/25\n",
      "328/328 [==============================] - 1s 2ms/step - loss: 0.0971 - f1: 0.7298 - accuracy: 0.6804 - val_loss: 0.1489 - val_f1: 0.1539 - val_accuracy: 0.6785\n",
      "Epoch 22/25\n",
      "328/328 [==============================] - 1s 2ms/step - loss: 0.0970 - f1: 0.7234 - accuracy: 0.6734 - val_loss: 0.1479 - val_f1: 0.1549 - val_accuracy: 0.6464\n",
      "Epoch 23/25\n",
      "328/328 [==============================] - 1s 2ms/step - loss: 0.0975 - f1: 0.7330 - accuracy: 0.6848 - val_loss: 0.1254 - val_f1: 0.1529 - val_accuracy: 0.6980\n"
     ]
    }
   ],
   "source": [
    "# cell with data read, split it into train and test parts and teach the models\n",
    "\n",
    "df = PrepareData.get_data()\n",
    "\n",
    "df = df.dropna()\n",
    "y = df['nextday_rainfall']\n",
    "X = df.drop('nextday_rainfall', axis=1)\n",
    "\n",
    "X_train, X_test, y_train, y_test = train_test_split(X, y, test_size=0.25, stratify=y)\n",
    "\n",
    "models = teach_models(X_train, y_train)"
   ],
   "metadata": {
    "collapsed": false,
    "pycharm": {
     "name": "#%%\n"
    }
   }
  },
  {
   "cell_type": "code",
   "execution_count": 16,
   "outputs": [
    {
     "name": "stdout",
     "output_type": "stream",
     "text": [
      "1/1 [==============================] - 0s 96ms/step\n",
      "Tomorrow will be rainy\n"
     ]
    }
   ],
   "source": [
    "# simple usage of 'predict_tomorrow_weather' method\n",
    "\n",
    "result=predict_tomorrow_weather([models[0],models[1],models[2]])\n",
    "print(result)"
   ],
   "metadata": {
    "collapsed": false,
    "pycharm": {
     "name": "#%%\n"
    }
   }
  }
 ],
 "metadata": {
  "kernelspec": {
   "display_name": "Python 3",
   "language": "python",
   "name": "python3"
  },
  "language_info": {
   "codemirror_mode": {
    "name": "ipython",
    "version": 2
   },
   "file_extension": ".py",
   "mimetype": "text/x-python",
   "name": "python",
   "nbconvert_exporter": "python",
   "pygments_lexer": "ipython2",
   "version": "2.7.6"
  }
 },
 "nbformat": 4,
 "nbformat_minor": 0
}