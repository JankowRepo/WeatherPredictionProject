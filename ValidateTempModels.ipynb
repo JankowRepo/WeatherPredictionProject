{
 "cells": [
  {
   "cell_type": "code",
   "execution_count": 1,
   "metadata": {
    "collapsed": true
   },
   "outputs": [
    {
     "data": {
      "text/plain": "<module 'PrepareData' from 'C:\\\\Users\\\\Adam\\\\source\\\\repos\\\\WeatherPrediction\\\\WeatherPredictionProject\\\\PrepareData.py'>"
     },
     "execution_count": 1,
     "metadata": {},
     "output_type": "execute_result"
    }
   ],
   "source": [
    "import math\n",
    "import numpy as np\n",
    "import pandas as pd\n",
    "from sklearn.metrics import confusion_matrix, f1_score\n",
    "from sklearn.metrics import accuracy_score, matthews_corrcoef, mean_squared_error, mean_absolute_error\n",
    "from sklearn.model_selection import train_test_split\n",
    "from imblearn.combine import SMOTETomek\n",
    "import MachineLearning as ML\n",
    "import PrepareData\n",
    "import importlib\n",
    "\n",
    "importlib.reload(ML)\n",
    "importlib.reload(PrepareData)"
   ]
  },
  {
   "cell_type": "code",
   "execution_count": 2,
   "outputs": [],
   "source": [
    "# method 'teach_models' takes the data and tech all models with it\n",
    "\n",
    "def teach_models(X_train, y_train):\n",
    "    models=[]\n",
    "\n",
    "    models.append(ML.NeuralNetworks(X_train, y_train))\n",
    "    models.append(ML.LinearRegressionModel(X_train, y_train))\n",
    "    models.append(ML.SupportVectorRegression(X_train, y_train))\n",
    "\n",
    "    return models"
   ],
   "metadata": {
    "collapsed": false,
    "pycharm": {
     "name": "#%%\n"
    }
   }
  },
  {
   "cell_type": "code",
   "execution_count": 3,
   "outputs": [],
   "source": [
    "# method 'score_models' calculate scores to many statistics for all models separately\n",
    "\n",
    "def score_models(models, X_test, y_test):\n",
    "    results=[]\n",
    "    for model in models:\n",
    "        scores={}\n",
    "        y_pred=model.predict(X_test)\n",
    "        scores['Model']=model.__str__()\n",
    "        scores['Mean_squared_error_(MSE)']=mean_squared_error(y_test, y_pred)\n",
    "        scores['Square_root_of_mean_squared_error_(RMSE)']=math.sqrt(mean_squared_error(y_test, y_pred))\n",
    "        scores['Mean_absolute_error_(MAE)']=mean_absolute_error(y_test, y_pred)\n",
    "\n",
    "        results.append(scores)\n",
    "    return results"
   ],
   "metadata": {
    "collapsed": false,
    "pycharm": {
     "name": "#%%\n"
    }
   }
  },
  {
   "cell_type": "code",
   "execution_count": 4,
   "outputs": [],
   "source": [
    "# method 'score_merged_models' calculate scores to many statistics for selected models as merged object\n",
    "\n",
    "def score_merged_models(models, X_test, y_test):\n",
    "    merged_scores={}\n",
    "    results=pd.DataFrame()\n",
    "    num=1\n",
    "    for model in models:\n",
    "        column=\"Model_\"+str(num)\n",
    "        results[column]=list(model.predict(X_test))\n",
    "        num+=1\n",
    "\n",
    "    results=results.astype(np.int32)\n",
    "\n",
    "    results[\"Sum\"]=results.sum(axis=1)/len(models)\n",
    "\n",
    "    y_pred_merged=results[\"Sum\"].values\n",
    "\n",
    "    merged_scores['Model']='Merged model'\n",
    "    merged_scores['Mean_squared_error_(MSE)']=mean_squared_error(y_test, y_pred_merged)\n",
    "    merged_scores['Square_root_of_mean_squared_error_(RMSE)']=math.sqrt(mean_squared_error(y_test, y_pred_merged))\n",
    "    merged_scores['Mean_absolute_error_(MAE)']=mean_absolute_error(y_test, y_pred_merged)\n",
    "\n",
    "    return merged_scores"
   ],
   "metadata": {
    "collapsed": false,
    "pycharm": {
     "name": "#%%\n"
    }
   }
  },
  {
   "cell_type": "code",
   "execution_count": 5,
   "outputs": [
    {
     "name": "stdout",
     "output_type": "stream",
     "text": [
      "Epoch 1/25\n",
      "302/302 [==============================] - 2s 3ms/step - loss: 1.0783 - f1: 0.9128 - accuracy: 0.0044 - val_loss: 0.3762 - val_f1: 0.9126 - val_accuracy: 0.0044\n",
      "Epoch 2/25\n",
      "302/302 [==============================] - 1s 2ms/step - loss: 0.5667 - f1: 0.9073 - accuracy: 0.0044 - val_loss: 0.2539 - val_f1: 0.9022 - val_accuracy: 0.0044\n",
      "Epoch 3/25\n",
      "302/302 [==============================] - 1s 2ms/step - loss: 0.4921 - f1: 0.9029 - accuracy: 0.0044 - val_loss: 0.2108 - val_f1: 0.9049 - val_accuracy: 0.0044\n",
      "Epoch 4/25\n",
      "302/302 [==============================] - 1s 2ms/step - loss: 0.4538 - f1: 0.9001 - accuracy: 0.0044 - val_loss: 0.1900 - val_f1: 0.8994 - val_accuracy: 0.0044\n",
      "Epoch 5/25\n",
      "302/302 [==============================] - 1s 2ms/step - loss: 0.4468 - f1: 0.8998 - accuracy: 0.0044 - val_loss: 0.1788 - val_f1: 0.8980 - val_accuracy: 0.0044\n",
      "Epoch 6/25\n",
      "302/302 [==============================] - 1s 2ms/step - loss: 0.4425 - f1: 0.9001 - accuracy: 0.0044 - val_loss: 0.2005 - val_f1: 0.8986 - val_accuracy: 0.0044\n",
      "Epoch 7/25\n",
      "302/302 [==============================] - 1s 2ms/step - loss: 0.4366 - f1: 0.8981 - accuracy: 0.0044 - val_loss: 0.1949 - val_f1: 0.8986 - val_accuracy: 0.0044\n",
      "Epoch 8/25\n",
      "302/302 [==============================] - 1s 2ms/step - loss: 0.4372 - f1: 0.9004 - accuracy: 0.0044 - val_loss: 0.1769 - val_f1: 0.8959 - val_accuracy: 0.0044\n",
      "Epoch 9/25\n",
      "302/302 [==============================] - 1s 2ms/step - loss: 0.4294 - f1: 0.8986 - accuracy: 0.0044 - val_loss: 0.1767 - val_f1: 0.9015 - val_accuracy: 0.0044\n",
      "Epoch 10/25\n",
      "302/302 [==============================] - 1s 2ms/step - loss: 0.4124 - f1: 0.8973 - accuracy: 0.0044 - val_loss: 0.1729 - val_f1: 0.8973 - val_accuracy: 0.0044\n",
      "Epoch 11/25\n",
      "302/302 [==============================] - 1s 2ms/step - loss: 0.4110 - f1: 0.8994 - accuracy: 0.0044 - val_loss: 0.1859 - val_f1: 0.8966 - val_accuracy: 0.0044\n",
      "Epoch 12/25\n",
      "302/302 [==============================] - 1s 2ms/step - loss: 0.4226 - f1: 0.8960 - accuracy: 0.0044 - val_loss: 0.1806 - val_f1: 0.8966 - val_accuracy: 0.0044\n",
      "Epoch 13/25\n",
      "302/302 [==============================] - 1s 2ms/step - loss: 0.4076 - f1: 0.8984 - accuracy: 0.0044 - val_loss: 0.1647 - val_f1: 0.8959 - val_accuracy: 0.0044\n",
      "Epoch 14/25\n",
      "302/302 [==============================] - 1s 2ms/step - loss: 0.4137 - f1: 0.9235 - accuracy: 0.0044 - val_loss: 0.1402 - val_f1: 0.9455 - val_accuracy: 0.0044\n",
      "Epoch 15/25\n",
      "302/302 [==============================] - 1s 2ms/step - loss: 0.3774 - f1: 0.9645 - accuracy: 0.0041 - val_loss: 0.1495 - val_f1: 0.9845 - val_accuracy: 0.0037\n",
      "Epoch 16/25\n",
      "302/302 [==============================] - 1s 2ms/step - loss: 0.3691 - f1: 0.9728 - accuracy: 0.0050 - val_loss: 0.1324 - val_f1: 1.0167 - val_accuracy: 0.0037\n",
      "Epoch 17/25\n",
      "302/302 [==============================] - 1s 2ms/step - loss: 0.3647 - f1: 0.9773 - accuracy: 0.0044 - val_loss: 0.1457 - val_f1: 0.9511 - val_accuracy: 0.0044\n",
      "Epoch 18/25\n",
      "302/302 [==============================] - 1s 2ms/step - loss: 0.3705 - f1: 0.9751 - accuracy: 0.0041 - val_loss: 0.1360 - val_f1: 0.9834 - val_accuracy: 0.0044\n",
      "Epoch 19/25\n",
      "302/302 [==============================] - 1s 2ms/step - loss: 0.3618 - f1: 0.9887 - accuracy: 0.0044 - val_loss: 0.1378 - val_f1: 1.0112 - val_accuracy: 0.0044\n",
      "Epoch 20/25\n",
      "302/302 [==============================] - 1s 2ms/step - loss: 0.3536 - f1: 0.9815 - accuracy: 0.0039 - val_loss: 0.1296 - val_f1: 0.9877 - val_accuracy: 0.0044\n",
      "Epoch 21/25\n",
      "302/302 [==============================] - 1s 2ms/step - loss: 0.3571 - f1: 0.9825 - accuracy: 0.0046 - val_loss: 0.1474 - val_f1: 0.9475 - val_accuracy: 0.0044\n",
      "Epoch 22/25\n",
      "302/302 [==============================] - 1s 2ms/step - loss: 0.3534 - f1: 0.9838 - accuracy: 0.0050 - val_loss: 0.1382 - val_f1: 0.9742 - val_accuracy: 0.0044\n",
      "Epoch 23/25\n",
      "302/302 [==============================] - 1s 2ms/step - loss: 0.3543 - f1: 0.9785 - accuracy: 0.0044 - val_loss: 0.1445 - val_f1: 0.9534 - val_accuracy: 0.0044\n",
      "Epoch 24/25\n",
      "302/302 [==============================] - 1s 2ms/step - loss: 0.3491 - f1: 0.9738 - accuracy: 0.0044 - val_loss: 0.1316 - val_f1: 0.9721 - val_accuracy: 0.0044\n",
      "Epoch 25/25\n",
      "302/302 [==============================] - 1s 2ms/step - loss: 0.3659 - f1: 0.9863 - accuracy: 0.0048 - val_loss: 0.1287 - val_f1: 0.9937 - val_accuracy: 0.0044\n"
     ]
    }
   ],
   "source": [
    "# cell with data read, split it into train and test parts and teach the models\n",
    "\n",
    "df = PrepareData.get_temp_data()\n",
    "df = df.dropna()\n",
    "\n",
    "train = df.sample(frac=0.8)\n",
    "test = df.drop(train.index)\n",
    "\n",
    "y_train = train['temp']\n",
    "X_train = train.drop('temp', axis=1)\n",
    "\n",
    "y_test = train['temp']\n",
    "X_test = train.drop('temp', axis=1)\n",
    "\n",
    "models = teach_models(X_train, y_train)"
   ],
   "metadata": {
    "collapsed": false,
    "pycharm": {
     "name": "#%%\n"
    }
   }
  },
  {
   "cell_type": "code",
   "execution_count": 9,
   "outputs": [
    {
     "name": "stdout",
     "output_type": "stream",
     "text": [
      "201/201 [==============================] - 0s 2ms/step\n"
     ]
    },
    {
     "data": {
      "text/plain": "{'Model': 'SVR()',\n 'Mean_squared_error_(MSE)': 4.823904313654315,\n 'Square_root_of_mean_squared_error_(RMSE)': 2.196338843087358,\n 'Mean_absolute_error_(MAE)': 1.624521643355879}"
     },
     "execution_count": 9,
     "metadata": {},
     "output_type": "execute_result"
    }
   ],
   "source": [
    "# simple usage of 'score_models' method\n",
    "\n",
    "scores=score_models(models,X_test,y_test)\n",
    "scores[2]"
   ],
   "metadata": {
    "collapsed": false,
    "pycharm": {
     "name": "#%%\n"
    }
   }
  },
  {
   "cell_type": "code",
   "execution_count": 7,
   "outputs": [
    {
     "name": "stdout",
     "output_type": "stream",
     "text": [
      "201/201 [==============================] - 0s 2ms/step\n"
     ]
    },
    {
     "data": {
      "text/plain": "{'Model': 'Merged model',\n 'Mean_squared_error_(MSE)': 6.176179140086094,\n 'Square_root_of_mean_squared_error_(RMSE)': 2.4851919724814207,\n 'Mean_absolute_error_(MAE)': 1.864037135003371}"
     },
     "execution_count": 7,
     "metadata": {},
     "output_type": "execute_result"
    }
   ],
   "source": [
    "# simple usage of 'score_merged_models' method\n",
    "\n",
    "scores=score_merged_models(models,X_test,y_test)\n",
    "scores"
   ],
   "metadata": {
    "collapsed": false,
    "pycharm": {
     "name": "#%%\n"
    }
   }
  },
  {
   "cell_type": "code",
   "execution_count": 12,
   "outputs": [
    {
     "name": "stdout",
     "output_type": "stream",
     "text": [
      "201/201 [==============================] - 0s 1ms/step\n",
      "0\n",
      "201/201 [==============================] - 0s 1ms/step\n",
      "201/201 [==============================] - 0s 1ms/step\n",
      "201/201 [==============================] - 0s 1ms/step\n",
      "5.162022716664074\n",
      "[LinearRegression(), SVR()]\n"
     ]
    }
   ],
   "source": [
    "# The below algorithm allow determining which set of models is best (needs ~10 min)\n",
    "\n",
    "best_score=1000\n",
    "best_models=[]\n",
    "num=0\n",
    "\n",
    "import itertools\n",
    "for L in range(1,len(models) + 1):\n",
    "    for subset in itertools.combinations(models, L):\n",
    "        merged_scores=score_merged_models(list(subset),X_test,y_test)\n",
    "        if merged_scores['Mean_squared_error_(MSE)']<best_score:\n",
    "            best_score=merged_scores['Mean_squared_error_(MSE)']\n",
    "            best_models=list(subset)\n",
    "        if num%100==0:\n",
    "            print(num)\n",
    "        num+=1\n",
    "\n",
    "print(best_score)\n",
    "print(best_models)"
   ],
   "metadata": {
    "collapsed": false,
    "pycharm": {
     "name": "#%%\n"
    }
   }
  }
 ],
 "metadata": {
  "kernelspec": {
   "display_name": "Python 3",
   "language": "python",
   "name": "python3"
  },
  "language_info": {
   "codemirror_mode": {
    "name": "ipython",
    "version": 2
   },
   "file_extension": ".py",
   "mimetype": "text/x-python",
   "name": "python",
   "nbconvert_exporter": "python",
   "pygments_lexer": "ipython2",
   "version": "2.7.6"
  }
 },
 "nbformat": 4,
 "nbformat_minor": 0
}