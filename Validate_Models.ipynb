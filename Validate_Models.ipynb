{
 "cells": [
  {
   "cell_type": "code",
   "execution_count": 2,
   "metadata": {
    "collapsed": true
   },
   "outputs": [
    {
     "data": {
      "text/plain": "<module 'PrepareData' from 'C:\\\\Users\\\\Adam\\\\source\\\\repos\\\\WeatherPrediction\\\\WeatherPredictionProject\\\\PrepareData.py'>"
     },
     "execution_count": 2,
     "metadata": {},
     "output_type": "execute_result"
    }
   ],
   "source": [
    "import math\n",
    "import numpy as np\n",
    "import pandas as pd\n",
    "from sklearn.metrics import confusion_matrix, f1_score\n",
    "from sklearn.metrics import accuracy_score, matthews_corrcoef, mean_squared_error, mean_absolute_error\n",
    "from sklearn.model_selection import train_test_split\n",
    "from imblearn.combine import SMOTETomek\n",
    "import MachineLearning as ML\n",
    "import PrepareData\n",
    "import importlib\n",
    "\n",
    "importlib.reload(ML)\n",
    "importlib.reload(PrepareData)"
   ]
  },
  {
   "cell_type": "code",
   "execution_count": 3,
   "outputs": [],
   "source": [
    "# method 'teach_models' takes the data and tech all models with it\n",
    "\n",
    "def teach_models(X_train, y_train):\n",
    "    models=[]\n",
    "\n",
    "    X_train, y_train = SMOTETomek().fit_resample(X_train, y_train)\n",
    "\n",
    "    models.append(ML.NeuralNetworks(X_train, y_train))\n",
    "    models.append(ML.KNN(X_train, y_train))\n",
    "    models.append(ML.DecisionTree(X_train, y_train))\n",
    "    models.append(ML.LinearRegressionModel(X_train, y_train))\n",
    "    models.append(ML.LogisticRegressionModel(X_train, y_train))\n",
    "    models.append(ML.RandomForest(X_train, y_train))\n",
    "    models.append(ML.SupportVectorMachines(X_train, y_train))\n",
    "    models.append(ML.SupportVectorRegression(X_train, y_train))\n",
    "    models.append(ML.TreeGradientBoosting(X_train, y_train))\n",
    "    models.append(ML.DummyModel(X_train, y_train))\n",
    "\n",
    "    return models"
   ],
   "metadata": {
    "collapsed": false,
    "pycharm": {
     "name": "#%%\n"
    }
   }
  },
  {
   "cell_type": "code",
   "execution_count": 4,
   "outputs": [],
   "source": [
    "# method 'score_models' calculate scores to many statistics for all models separately\n",
    "\n",
    "def score_models(models, X_test, y_test):\n",
    "    results=[]\n",
    "    for model in models:\n",
    "        scores={}\n",
    "        y_pred=model.predict(X_test)>0.5\n",
    "        scores['Model']=model.__str__()\n",
    "        scores['Accuracy']=accuracy_score(y_test, y_pred)\n",
    "        scores['F1_score']=f1_score(y_test, y_pred)\n",
    "        scores['Matthwes_correlation_coefficient_(MCC)']=matthews_corrcoef(y_test, y_pred)\n",
    "        scores['Mean_squared_error_(MSE)']=mean_squared_error(y_test, y_pred)\n",
    "        scores['Square_root_of_mean_squared_error_(RMSE)']=math.sqrt(mean_squared_error(y_test, y_pred))\n",
    "        scores['Mean_absolute_error_(MAE)']=mean_absolute_error(y_test, y_pred)\n",
    "        scores['Confusion_matrix']=confusion_matrix(y_test, y_pred)\n",
    "\n",
    "        results.append(scores)\n",
    "    return results"
   ],
   "metadata": {
    "collapsed": false,
    "pycharm": {
     "name": "#%%\n"
    }
   }
  },
  {
   "cell_type": "code",
   "execution_count": 5,
   "outputs": [],
   "source": [
    "# method 'score_merged_models' calculate scores to many statistics for selected models as merged object\n",
    "\n",
    "def score_merged_models(models, X_test, y_test):\n",
    "    merged_scores={}\n",
    "    results=pd.DataFrame()\n",
    "    num=1\n",
    "    for model in models:\n",
    "        column=\"Model_\"+str(num)\n",
    "        results[column]=list(model.predict(X_test)>0.5)\n",
    "        num+=1\n",
    "\n",
    "    results=results.astype(np.int32)\n",
    "\n",
    "    results[\"Sum\"]=results.sum(axis=1)/len(models)>0.5\n",
    "\n",
    "    y_pred_merged=results[\"Sum\"].values>0.5\n",
    "\n",
    "    merged_scores['Model']='Merged model'\n",
    "    merged_scores['Accuracy']=accuracy_score(y_test, y_pred_merged)\n",
    "    merged_scores['F1_score']=f1_score(y_test, y_pred_merged)\n",
    "    merged_scores['Matthwes_correlation_coefficient_(MCC)']=matthews_corrcoef(y_test, y_pred_merged)\n",
    "    merged_scores['Mean_squared_error_(MSE)']=mean_squared_error(y_test, y_pred_merged)\n",
    "    merged_scores['Square_root_of_mean_squared_error_(RMSE)']=math.sqrt(mean_squared_error(y_test, y_pred_merged))\n",
    "    merged_scores['Mean_absolute_error_(MAE)']=mean_absolute_error(y_test, y_pred_merged)\n",
    "    merged_scores['Confusion_matrix']=confusion_matrix(y_test, y_pred_merged)\n",
    "\n",
    "    return merged_scores"
   ],
   "metadata": {
    "collapsed": false,
    "pycharm": {
     "name": "#%%\n"
    }
   }
  },
  {
   "cell_type": "code",
   "execution_count": 6,
   "outputs": [
    {
     "name": "stdout",
     "output_type": "stream",
     "text": [
      "Epoch 1/25\n",
      "329/329 [==============================] - 2s 4ms/step - loss: 0.6920 - f1: 0.4166 - accuracy: 0.5097 - val_loss: 0.6908 - val_f1: 0.0000e+00 - val_accuracy: 0.5000\n",
      "Epoch 2/25\n",
      "329/329 [==============================] - 1s 3ms/step - loss: 0.6826 - f1: 0.4539 - accuracy: 0.5542 - val_loss: 0.6564 - val_f1: 0.6998 - val_accuracy: 0.6689\n",
      "Epoch 3/25\n",
      "329/329 [==============================] - 1s 3ms/step - loss: 0.6618 - f1: 0.5751 - accuracy: 0.6131 - val_loss: 0.6374 - val_f1: 0.6378 - val_accuracy: 0.6712\n",
      "Epoch 4/25\n",
      "329/329 [==============================] - 1s 3ms/step - loss: 0.6473 - f1: 0.5910 - accuracy: 0.6374 - val_loss: 0.6339 - val_f1: 0.6588 - val_accuracy: 0.6775\n",
      "Epoch 5/25\n",
      "329/329 [==============================] - 1s 3ms/step - loss: 0.6501 - f1: 0.6008 - accuracy: 0.6353 - val_loss: 0.6210 - val_f1: 0.6923 - val_accuracy: 0.6809\n",
      "Epoch 6/25\n",
      "329/329 [==============================] - 1s 3ms/step - loss: 0.6440 - f1: 0.6127 - accuracy: 0.6353 - val_loss: 0.6263 - val_f1: 0.6969 - val_accuracy: 0.6832\n",
      "Epoch 7/25\n",
      "329/329 [==============================] - 1s 3ms/step - loss: 0.6392 - f1: 0.6313 - accuracy: 0.6490 - val_loss: 0.6183 - val_f1: 0.6721 - val_accuracy: 0.6849\n",
      "Epoch 8/25\n",
      "329/329 [==============================] - 1s 3ms/step - loss: 0.6439 - f1: 0.6353 - accuracy: 0.6519 - val_loss: 0.6220 - val_f1: 0.6843 - val_accuracy: 0.6878\n",
      "Epoch 9/25\n",
      "329/329 [==============================] - 1s 3ms/step - loss: 0.6388 - f1: 0.6375 - accuracy: 0.6591 - val_loss: 0.6112 - val_f1: 0.6936 - val_accuracy: 0.6838\n",
      "Epoch 10/25\n",
      "329/329 [==============================] - 1s 3ms/step - loss: 0.6355 - f1: 0.6479 - accuracy: 0.6637 - val_loss: 0.6121 - val_f1: 0.6992 - val_accuracy: 0.6918\n",
      "Epoch 11/25\n",
      "329/329 [==============================] - 1s 3ms/step - loss: 0.6345 - f1: 0.6422 - accuracy: 0.6572 - val_loss: 0.6041 - val_f1: 0.6904 - val_accuracy: 0.6958\n",
      "Epoch 12/25\n",
      "329/329 [==============================] - 1s 3ms/step - loss: 0.6325 - f1: 0.6502 - accuracy: 0.6684 - val_loss: 0.6123 - val_f1: 0.6942 - val_accuracy: 0.6981\n",
      "Epoch 13/25\n",
      "329/329 [==============================] - 1s 3ms/step - loss: 0.6320 - f1: 0.6467 - accuracy: 0.6591 - val_loss: 0.5931 - val_f1: 0.7063 - val_accuracy: 0.7049\n",
      "Epoch 14/25\n",
      "329/329 [==============================] - 1s 3ms/step - loss: 0.6293 - f1: 0.6510 - accuracy: 0.6713 - val_loss: 0.6182 - val_f1: 0.6091 - val_accuracy: 0.6775\n",
      "Epoch 15/25\n",
      "329/329 [==============================] - 1s 3ms/step - loss: 0.6228 - f1: 0.6557 - accuracy: 0.6816 - val_loss: 0.5944 - val_f1: 0.6811 - val_accuracy: 0.7026\n",
      "Epoch 16/25\n",
      "329/329 [==============================] - 1s 3ms/step - loss: 0.6251 - f1: 0.6588 - accuracy: 0.6724 - val_loss: 0.5873 - val_f1: 0.7153 - val_accuracy: 0.7049\n",
      "Epoch 17/25\n",
      "329/329 [==============================] - 1s 3ms/step - loss: 0.6181 - f1: 0.6567 - accuracy: 0.6764 - val_loss: 0.5867 - val_f1: 0.7152 - val_accuracy: 0.7095\n",
      "Epoch 18/25\n",
      "329/329 [==============================] - 1s 3ms/step - loss: 0.6169 - f1: 0.6688 - accuracy: 0.6854 - val_loss: 0.5806 - val_f1: 0.7187 - val_accuracy: 0.7066\n",
      "Epoch 19/25\n",
      "329/329 [==============================] - 1s 3ms/step - loss: 0.6113 - f1: 0.6500 - accuracy: 0.6768 - val_loss: 0.5894 - val_f1: 0.6364 - val_accuracy: 0.6992\n",
      "Epoch 20/25\n",
      "329/329 [==============================] - 1s 3ms/step - loss: 0.6173 - f1: 0.6491 - accuracy: 0.6766 - val_loss: 0.5839 - val_f1: 0.6977 - val_accuracy: 0.7112\n",
      "Epoch 21/25\n",
      "329/329 [==============================] - 1s 3ms/step - loss: 0.6105 - f1: 0.6621 - accuracy: 0.6879 - val_loss: 0.5803 - val_f1: 0.7277 - val_accuracy: 0.7158\n",
      "Epoch 22/25\n",
      "329/329 [==============================] - 1s 3ms/step - loss: 0.6114 - f1: 0.6551 - accuracy: 0.6842 - val_loss: 0.5735 - val_f1: 0.6885 - val_accuracy: 0.7123\n",
      "Epoch 23/25\n",
      "329/329 [==============================] - 1s 3ms/step - loss: 0.6091 - f1: 0.6621 - accuracy: 0.6858 - val_loss: 0.5710 - val_f1: 0.6961 - val_accuracy: 0.7146\n",
      "Epoch 24/25\n",
      "329/329 [==============================] - 1s 3ms/step - loss: 0.6056 - f1: 0.6716 - accuracy: 0.6939 - val_loss: 0.5844 - val_f1: 0.6268 - val_accuracy: 0.6946\n",
      "Epoch 25/25\n",
      "329/329 [==============================] - 1s 3ms/step - loss: 0.6099 - f1: 0.6570 - accuracy: 0.6842 - val_loss: 0.5742 - val_f1: 0.6822 - val_accuracy: 0.7197\n"
     ]
    }
   ],
   "source": [
    "# cell with data read, split it into train and test parts and teach the models\n",
    "\n",
    "df=PrepareData.get_data()\n",
    "\n",
    "df=df.dropna()\n",
    "\n",
    "y=df['nextday_rainfall']\n",
    "X=df.drop('nextday_rainfall', axis=1)\n",
    "\n",
    "X_train, X_test, y_train, y_test = train_test_split(X, y , test_size=0.25, stratify=y)\n",
    "\n",
    "models=teach_models(X_train, y_train)"
   ],
   "metadata": {
    "collapsed": false,
    "pycharm": {
     "name": "#%%\n"
    }
   }
  },
  {
   "cell_type": "code",
   "execution_count": 8,
   "outputs": [
    {
     "name": "stdout",
     "output_type": "stream",
     "text": [
      "63/63 [==============================] - 0s 3ms/step\n"
     ]
    },
    {
     "data": {
      "text/plain": "{'Model': '<keras.engine.sequential.Sequential object at 0x00000219BB391640>',\n 'Accuracy': 0.701841712294674,\n 'F1_score': 0.7369345630215195,\n 'Matthwes_correlation_coefficient_(MCC)': 0.4082627850061699,\n 'Mean_squared_error_(MSE)': 0.29815828770532604,\n 'Square_root_of_mean_squared_error_(RMSE)': 0.5460387236316908,\n 'Mean_absolute_error_(MAE)': 0.29815828770532604,\n 'Confusion_matrix': array([[571, 196],\n        [403, 839]], dtype=int64)}"
     },
     "execution_count": 8,
     "metadata": {},
     "output_type": "execute_result"
    }
   ],
   "source": [
    "# simple usage of 'score_models' method\n",
    "\n",
    "scores=score_models(models,X_test,y_test)\n",
    "scores[0]"
   ],
   "metadata": {
    "collapsed": false,
    "pycharm": {
     "name": "#%%\n"
    }
   }
  },
  {
   "cell_type": "code",
   "execution_count": 9,
   "outputs": [
    {
     "name": "stdout",
     "output_type": "stream",
     "text": [
      "63/63 [==============================] - 0s 2ms/step\n"
     ]
    },
    {
     "data": {
      "text/plain": "{'Model': 'Merged model',\n 'Accuracy': 0.7127924340467895,\n 'F1_score': 0.7535241349850491,\n 'Matthwes_correlation_coefficient_(MCC)': 0.41696062515953697,\n 'Mean_squared_error_(MSE)': 0.28720756595321056,\n 'Square_root_of_mean_squared_error_(RMSE)': 0.5359174992041318,\n 'Mean_absolute_error_(MAE)': 0.28720756595321056,\n 'Confusion_matrix': array([[550, 217],\n        [360, 882]], dtype=int64)}"
     },
     "execution_count": 9,
     "metadata": {},
     "output_type": "execute_result"
    }
   ],
   "source": [
    "# simple usage of 'score_merged_models' method\n",
    "\n",
    "scores=score_merged_models(models,X_test,y_test)\n",
    "scores"
   ],
   "metadata": {
    "collapsed": false,
    "pycharm": {
     "name": "#%%\n"
    }
   }
  },
  {
   "cell_type": "code",
   "execution_count": null,
   "outputs": [],
   "source": [
    "# The below algorithm allow determining which set of models is best (needs ~10 min)\n",
    "\n",
    "best_score=0\n",
    "best_models=[]\n",
    "num=0\n",
    "\n",
    "import itertools\n",
    "for L in range(2,len(models) + 1):\n",
    "    for subset in itertools.combinations(models[:-1], L):\n",
    "        merged_scores=score_merged_models(list(subset),X_test,y_test)\n",
    "        if merged_scores['F1_score']>best_score:\n",
    "            best_score=merged_scores['F1_score']\n",
    "            best_models=list(subset)\n",
    "        if num%100==0:\n",
    "            print(num)\n",
    "        num+=1\n",
    "\n",
    "print(best_score)\n",
    "print(best_models)"
   ],
   "metadata": {
    "collapsed": false,
    "pycharm": {
     "name": "#%%\n"
    }
   }
  }
 ],
 "metadata": {
  "kernelspec": {
   "display_name": "Python 3",
   "language": "python",
   "name": "python3"
  },
  "language_info": {
   "codemirror_mode": {
    "name": "ipython",
    "version": 2
   },
   "file_extension": ".py",
   "mimetype": "text/x-python",
   "name": "python",
   "nbconvert_exporter": "python",
   "pygments_lexer": "ipython2",
   "version": "2.7.6"
  }
 },
 "nbformat": 4,
 "nbformat_minor": 0
}