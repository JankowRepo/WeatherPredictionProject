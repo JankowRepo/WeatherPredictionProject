{
 "cells": [
  {
   "cell_type": "code",
   "execution_count": 81,
   "metadata": {
    "collapsed": true
   },
   "outputs": [],
   "source": [
    "from sklearn.metrics import confusion_matrix, f1_score\n",
    "from sklearn.model_selection import train_test_split\n",
    "from lightgbm import LGBMClassifier\n",
    "from imblearn.combine import SMOTETomek\n",
    "import MachineLearning as ML\n",
    "import PrepareData\n",
    "import DB_reader\n",
    "\n",
    "import importlib\n",
    "\n"
   ]
  },
  {
   "cell_type": "code",
   "execution_count": 82,
   "outputs": [
    {
     "name": "stdout",
     "output_type": "stream",
     "text": [
      "      temp  tempmin  tempmax  feelslike  feelslikemax  feelslikemin   dew  \\\n",
      "0      9.1      7.6     11.7        8.4          11.7           6.4   6.7   \n",
      "1      6.8      0.1     11.8        5.9          11.8           0.1   4.5   \n",
      "2      6.1      0.1     10.5        4.1          10.5          -2.2   4.4   \n",
      "3     10.4      8.6     12.8        9.7          12.8           5.9   8.0   \n",
      "4      7.0      4.8      8.5        5.3           8.2           3.4   6.4   \n",
      "...    ...      ...      ...        ...           ...           ...   ...   \n",
      "8031  12.3      8.2     16.1       12.2          16.1           7.7  11.2   \n",
      "8032  13.6     11.6     16.1       13.6          16.1          11.6  10.7   \n",
      "8033  10.8      6.6     15.5       10.5          15.5           6.3   7.8   \n",
      "8034   9.2      5.2     12.3        8.7          12.3           3.6   8.4   \n",
      "8035  10.4     10.0     10.8       10.4          10.8          10.0  10.1   \n",
      "\n",
      "      humidity  precip  preciptype  ...  winddir  sealevelpressure  \\\n",
      "0         84.8   1.910           1  ...    199.5            1007.1   \n",
      "1         86.2   0.004           1  ...    183.9            1009.4   \n",
      "2         89.3   0.000           0  ...    134.0            1009.7   \n",
      "3         86.0   4.111           1  ...    155.5            1007.9   \n",
      "4         96.1  18.005           1  ...    282.4            1011.9   \n",
      "...        ...     ...         ...  ...      ...               ...   \n",
      "8031      93.6   0.000           0  ...    185.6            1022.6   \n",
      "8032      83.3   0.198           1  ...    251.7            1017.4   \n",
      "8033      82.4   0.000           0  ...    260.1            1019.2   \n",
      "8034      95.4   0.000           0  ...    139.6            1021.0   \n",
      "8035      98.1   0.099           1  ...    164.8            1018.1   \n",
      "\n",
      "      cloudcover  visibility  moonphase  conditions  year  month  day_of_year  \\\n",
      "0             87        17.3       0.12           1  2000     11          306   \n",
      "1             41        15.1       0.17           1  2000     11          307   \n",
      "2             47         9.6       0.21           0  2000     11          308   \n",
      "3             95        12.9       0.26           1  2000     11          309   \n",
      "4             95         5.2       0.31           1  2000     11          310   \n",
      "...          ...         ...        ...         ...   ...    ...          ...   \n",
      "8031          83         5.2       0.06           0  2022     10          301   \n",
      "8032          84        20.1       0.10           1  2022     10          302   \n",
      "8033          68        31.0       0.14           0  2022     10          303   \n",
      "8034          80         7.0       0.21           0  2022     10          304   \n",
      "8035         100         2.5       0.26           1  2022     11          305   \n",
      "\n",
      "      nextday_rainfall  \n",
      "0                  1.0  \n",
      "1                  0.0  \n",
      "2                  1.0  \n",
      "3                  1.0  \n",
      "4                  0.0  \n",
      "...                ...  \n",
      "8031               1.0  \n",
      "8032               0.0  \n",
      "8033               0.0  \n",
      "8034               1.0  \n",
      "8035               NaN  \n",
      "\n",
      "[8036 rows x 23 columns]\n"
     ]
    }
   ],
   "source": [
    "importlib.reload(PrepareData)\n",
    "\n",
    "df=PrepareData.get_data()"
   ],
   "metadata": {
    "collapsed": false,
    "pycharm": {
     "name": "#%%\n"
    }
   }
  },
  {
   "cell_type": "code",
   "execution_count": 83,
   "outputs": [
    {
     "name": "stdout",
     "output_type": "stream",
     "text": [
      "Weather requestUrl=https://weather.visualcrossing.com/VisualCrossingWebServices/rest/services/timeline/Olsztyn%2CPL?key=D83SDPLMVBRWQMWP5QAVLQ9G4&unitGroup=metric&include=days\n"
     ]
    },
    {
     "name": "stderr",
     "output_type": "stream",
     "text": [
      "C:\\Users\\Adam\\source\\repos\\WeatherPrediction\\WeatherPredictionProject\\PrepareData.py:96: SettingWithCopyWarning: \n",
      "A value is trying to be set on a copy of a slice from a DataFrame.\n",
      "Try using .loc[row_indexer,col_indexer] = value instead\n",
      "\n",
      "See the caveats in the documentation: https://pandas.pydata.org/pandas-docs/stable/user_guide/indexing.html#returning-a-view-versus-a-copy\n",
      "  df[\"preciptype\"] = pd.to_numeric(df[\"preciptype\"])\n",
      "C:\\Users\\Adam\\source\\repos\\WeatherPrediction\\WeatherPredictionProject\\PrepareData.py:98: SettingWithCopyWarning: \n",
      "A value is trying to be set on a copy of a slice from a DataFrame.\n",
      "Try using .loc[row_indexer,col_indexer] = value instead\n",
      "\n",
      "See the caveats in the documentation: https://pandas.pydata.org/pandas-docs/stable/user_guide/indexing.html#returning-a-view-versus-a-copy\n",
      "  df.snowdepth = df.snowdepth.fillna(0)\n",
      "C:\\Users\\Adam\\source\\repos\\WeatherPrediction\\WeatherPredictionProject\\PrepareData.py:121: SettingWithCopyWarning: \n",
      "A value is trying to be set on a copy of a slice from a DataFrame.\n",
      "Try using .loc[row_indexer,col_indexer] = value instead\n",
      "\n",
      "See the caveats in the documentation: https://pandas.pydata.org/pandas-docs/stable/user_guide/indexing.html#returning-a-view-versus-a-copy\n",
      "  df[\"conditions\"] = pd.to_numeric(df[\"conditions\"])\n",
      "C:\\Users\\Adam\\source\\repos\\WeatherPrediction\\WeatherPredictionProject\\PrepareData.py:123: SettingWithCopyWarning: \n",
      "A value is trying to be set on a copy of a slice from a DataFrame.\n",
      "Try using .loc[row_indexer,col_indexer] = value instead\n",
      "\n",
      "See the caveats in the documentation: https://pandas.pydata.org/pandas-docs/stable/user_guide/indexing.html#returning-a-view-versus-a-copy\n",
      "  df['datetime'] = pd.to_datetime(df['datetime'])\n",
      "C:\\Users\\Adam\\source\\repos\\WeatherPrediction\\WeatherPredictionProject\\PrepareData.py:124: SettingWithCopyWarning: \n",
      "A value is trying to be set on a copy of a slice from a DataFrame.\n",
      "Try using .loc[row_indexer,col_indexer] = value instead\n",
      "\n",
      "See the caveats in the documentation: https://pandas.pydata.org/pandas-docs/stable/user_guide/indexing.html#returning-a-view-versus-a-copy\n",
      "  df['year'] = df['datetime'].dt.year\n",
      "C:\\Users\\Adam\\source\\repos\\WeatherPrediction\\WeatherPredictionProject\\PrepareData.py:125: SettingWithCopyWarning: \n",
      "A value is trying to be set on a copy of a slice from a DataFrame.\n",
      "Try using .loc[row_indexer,col_indexer] = value instead\n",
      "\n",
      "See the caveats in the documentation: https://pandas.pydata.org/pandas-docs/stable/user_guide/indexing.html#returning-a-view-versus-a-copy\n",
      "  df['month'] = df['datetime'].dt.month\n",
      "C:\\Users\\Adam\\source\\repos\\WeatherPrediction\\WeatherPredictionProject\\PrepareData.py:126: SettingWithCopyWarning: \n",
      "A value is trying to be set on a copy of a slice from a DataFrame.\n",
      "Try using .loc[row_indexer,col_indexer] = value instead\n",
      "\n",
      "See the caveats in the documentation: https://pandas.pydata.org/pandas-docs/stable/user_guide/indexing.html#returning-a-view-versus-a-copy\n",
      "  df['day_of_year'] = df['datetime'].dt.dayofyear\n"
     ]
    }
   ],
   "source": [
    "importlib.reload(ML)\n",
    "\n",
    "df=df.dropna()\n",
    "\n",
    "y=df['nextday_rainfall']\n",
    "X=df.drop('nextday_rainfall', axis=1)\n",
    "\n",
    "X_train, X_test, y_train, y_test = train_test_split(X, y , test_size=0.25, stratify=y)\n",
    "\n",
    "X, y = SMOTETomek().fit_resample(X_train, y_train)\n",
    "\n",
    "# model=ML.NeuralNetworks(X,y)\n",
    "# model=ML.KNN(X,y)\n",
    "# model=ML.DecisionTree(X,y)\n",
    "# model=ML.LinearRegressionModel(X,y)\n",
    "# model=ML.LogisticRegressionModel(X,y)\n",
    "# model=ML.RandomForest(X,y)\n",
    "# model=ML.SupportVectorMachines(X,y)\n",
    "# model=ML.SupportVectorRegression(X,y)\n",
    "model=ML.TreeGradientBoosting(X,y)\n",
    "\n",
    "\n",
    "row=DB_reader.getWeatherForecast()\n",
    "row=PrepareData.standarize_row(row, df.iloc[:,1:].columns.values)\n",
    "y_pred = model.predict(row)>0.5\n",
    "\n",
    "# cm = confusion_matrix(y_test, y_pred)\n",
    "# print(cm)\n",
    "#\n",
    "# f1_sc = f1_score(y_test.values.ravel(), y_pred.ravel())\n",
    "# print(f1_sc)"
   ],
   "metadata": {
    "collapsed": false,
    "pycharm": {
     "name": "#%%\n"
    }
   }
  },
  {
   "cell_type": "code",
   "execution_count": 84,
   "outputs": [
    {
     "name": "stdout",
     "output_type": "stream",
     "text": [
      "Jutro w Olsztynie będzie padał deszcz lub śnieg\n"
     ]
    }
   ],
   "source": [
    "print(\"Jutro w Olsztynie będzie padał deszcz lub śnieg\") if y_pred else print(\"Jutro w Olsztynie nie będzie opadów deszczu\")\n",
    "\n"
   ],
   "metadata": {
    "collapsed": false,
    "pycharm": {
     "name": "#%%\n"
    }
   }
  }
 ],
 "metadata": {
  "kernelspec": {
   "display_name": "Python 3",
   "language": "python",
   "name": "python3"
  },
  "language_info": {
   "codemirror_mode": {
    "name": "ipython",
    "version": 2
   },
   "file_extension": ".py",
   "mimetype": "text/x-python",
   "name": "python",
   "nbconvert_exporter": "python",
   "pygments_lexer": "ipython2",
   "version": "2.7.6"
  }
 },
 "nbformat": 4,
 "nbformat_minor": 0
}