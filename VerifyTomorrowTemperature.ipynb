{
 "cells": [
  {
   "cell_type": "code",
   "execution_count": 46,
   "metadata": {
    "collapsed": true
   },
   "outputs": [
    {
     "data": {
      "text/plain": "<module 'PrepareData' from 'C:\\\\Users\\\\Adam\\\\source\\\\repos\\\\WeatherPrediction\\\\WeatherPredictionProject\\\\PrepareData.py'>"
     },
     "execution_count": 46,
     "metadata": {},
     "output_type": "execute_result"
    }
   ],
   "source": [
    "from sklearn.model_selection import train_test_split\n",
    "from imblearn.combine import SMOTETomek\n",
    "import MachineLearning as ML\n",
    "import PrepareData\n",
    "import DB_reader\n",
    "import importlib\n",
    "\n",
    "importlib.reload(ML)\n",
    "importlib.reload(PrepareData)"
   ]
  },
  {
   "cell_type": "code",
   "execution_count": 47,
   "outputs": [],
   "source": [
    "def teach_models(X_train, y_train):\n",
    "    models=[]\n",
    "\n",
    "    models.append(ML.NeuralNetworks(X_train, y_train))\n",
    "    models.append(ML.LinearRegressionModel(X_train, y_train))\n",
    "    models.append(ML.SupportVectorRegression(X_train, y_train))\n",
    "\n",
    "    return models"
   ],
   "metadata": {
    "collapsed": false,
    "pycharm": {
     "name": "#%%\n"
    }
   }
  },
  {
   "cell_type": "code",
   "execution_count": 59,
   "outputs": [],
   "source": [
    "def predict_tomorrow_temperature(models):\n",
    "    results=[]\n",
    "    today_data=DB_reader.getWeatherForecast()\n",
    "    today_data=PrepareData.standarize_temp_row(today_data, df.iloc[:,1:].columns.values)\n",
    "\n",
    "    for model in models:\n",
    "        results.append(model.predict(today_data))\n",
    "    result=sum(results)/len(results)\n",
    "\n",
    "    return str(round(result[0][0],1))+\"C\""
   ],
   "metadata": {
    "collapsed": false,
    "pycharm": {
     "name": "#%%\n"
    }
   }
  },
  {
   "cell_type": "code",
   "execution_count": 49,
   "outputs": [
    {
     "name": "stdout",
     "output_type": "stream",
     "text": [
      "Epoch 1/25\n",
      "302/302 [==============================] - 2s 4ms/step - loss: 0.9135 - f1: 0.9162 - accuracy: 0.0035 - val_loss: 0.3386 - val_f1: 0.9011 - val_accuracy: 0.0031\n",
      "Epoch 2/25\n",
      "302/302 [==============================] - 1s 2ms/step - loss: 0.5344 - f1: 0.9113 - accuracy: 0.0037 - val_loss: 0.2137 - val_f1: 0.8925 - val_accuracy: 0.0031\n",
      "Epoch 3/25\n",
      "302/302 [==============================] - 1s 2ms/step - loss: 0.4243 - f1: 0.9403 - accuracy: 0.0035 - val_loss: 0.1857 - val_f1: 0.8937 - val_accuracy: 0.0031\n",
      "Epoch 4/25\n",
      "302/302 [==============================] - 1s 2ms/step - loss: 0.4075 - f1: 0.9466 - accuracy: 0.0041 - val_loss: 0.1733 - val_f1: 0.9036 - val_accuracy: 0.0031\n",
      "Epoch 5/25\n",
      "302/302 [==============================] - 1s 2ms/step - loss: 0.3894 - f1: 0.9597 - accuracy: 0.0037 - val_loss: 0.1991 - val_f1: 0.8996 - val_accuracy: 0.0031\n",
      "Epoch 6/25\n",
      "302/302 [==============================] - 1s 2ms/step - loss: 0.3886 - f1: 0.9607 - accuracy: 0.0039 - val_loss: 0.1848 - val_f1: 0.9061 - val_accuracy: 0.0031\n",
      "Epoch 7/25\n",
      "302/302 [==============================] - 1s 2ms/step - loss: 0.3673 - f1: 0.9707 - accuracy: 0.0037 - val_loss: 0.1716 - val_f1: 0.9139 - val_accuracy: 0.0031\n",
      "Epoch 8/25\n",
      "302/302 [==============================] - 1s 2ms/step - loss: 0.3694 - f1: 0.9668 - accuracy: 0.0037 - val_loss: 0.1586 - val_f1: 0.9228 - val_accuracy: 0.0031\n",
      "Epoch 9/25\n",
      "302/302 [==============================] - 1s 2ms/step - loss: 0.3516 - f1: 0.9886 - accuracy: 0.0037 - val_loss: 0.1542 - val_f1: 0.9307 - val_accuracy: 0.0031\n",
      "Epoch 10/25\n",
      "302/302 [==============================] - 1s 2ms/step - loss: 0.3710 - f1: 0.9756 - accuracy: 0.0048 - val_loss: 0.1628 - val_f1: 0.9289 - val_accuracy: 0.0031\n",
      "Epoch 11/25\n",
      "302/302 [==============================] - 1s 2ms/step - loss: 0.3573 - f1: 0.9843 - accuracy: 0.0041 - val_loss: 0.1491 - val_f1: 0.9596 - val_accuracy: 0.0031\n",
      "Epoch 12/25\n",
      "302/302 [==============================] - 1s 2ms/step - loss: 0.3695 - f1: 0.9687 - accuracy: 0.0023 - val_loss: 0.1694 - val_f1: 0.9268 - val_accuracy: 0.0031\n",
      "Epoch 13/25\n",
      "302/302 [==============================] - 1s 2ms/step - loss: 0.3516 - f1: 0.9790 - accuracy: 0.0039 - val_loss: 0.1680 - val_f1: 0.9443 - val_accuracy: 0.0031\n",
      "Epoch 14/25\n",
      "302/302 [==============================] - 1s 3ms/step - loss: 0.3523 - f1: 0.9773 - accuracy: 0.0037 - val_loss: 0.1620 - val_f1: 0.9519 - val_accuracy: 0.0031\n",
      "Epoch 15/25\n",
      "302/302 [==============================] - 1s 2ms/step - loss: 0.3502 - f1: 0.9794 - accuracy: 0.0037 - val_loss: 0.1477 - val_f1: 0.9549 - val_accuracy: 0.0031\n",
      "Epoch 16/25\n",
      "302/302 [==============================] - 1s 2ms/step - loss: 0.3464 - f1: 0.9904 - accuracy: 0.0035 - val_loss: 0.1379 - val_f1: 0.9706 - val_accuracy: 0.0031\n",
      "Epoch 17/25\n",
      "302/302 [==============================] - 1s 2ms/step - loss: 0.3526 - f1: 0.9929 - accuracy: 0.0044 - val_loss: 0.1419 - val_f1: 0.9523 - val_accuracy: 0.0031\n",
      "Epoch 18/25\n",
      "302/302 [==============================] - 1s 3ms/step - loss: 0.3415 - f1: 0.9960 - accuracy: 0.0035 - val_loss: 0.1514 - val_f1: 0.9436 - val_accuracy: 0.0031\n",
      "Epoch 19/25\n",
      "302/302 [==============================] - 1s 2ms/step - loss: 0.3518 - f1: 0.9882 - accuracy: 0.0044 - val_loss: 0.1644 - val_f1: 0.9305 - val_accuracy: 0.0031\n",
      "Epoch 20/25\n",
      "302/302 [==============================] - 1s 2ms/step - loss: 0.3323 - f1: 0.9954 - accuracy: 0.0039 - val_loss: 0.1662 - val_f1: 0.9255 - val_accuracy: 0.0031\n",
      "Epoch 21/25\n",
      "302/302 [==============================] - 1s 2ms/step - loss: 0.3496 - f1: 0.9997 - accuracy: 0.0035 - val_loss: 0.1444 - val_f1: 0.9595 - val_accuracy: 0.0031\n",
      "Epoch 22/25\n",
      "302/302 [==============================] - 1s 2ms/step - loss: 0.3393 - f1: 0.9863 - accuracy: 0.0031 - val_loss: 0.1520 - val_f1: 0.9453 - val_accuracy: 0.0031\n",
      "Epoch 23/25\n",
      "302/302 [==============================] - 1s 2ms/step - loss: 0.3346 - f1: 1.0030 - accuracy: 0.0037 - val_loss: 0.1553 - val_f1: 0.9429 - val_accuracy: 0.0031\n",
      "Epoch 24/25\n",
      "302/302 [==============================] - 1s 2ms/step - loss: 0.3309 - f1: 0.9913 - accuracy: 0.0035 - val_loss: 0.1404 - val_f1: 0.9562 - val_accuracy: 0.0031\n",
      "Epoch 25/25\n",
      "302/302 [==============================] - 1s 2ms/step - loss: 0.3231 - f1: 0.9989 - accuracy: 0.0039 - val_loss: 0.1535 - val_f1: 0.9450 - val_accuracy: 0.0031\n"
     ]
    }
   ],
   "source": [
    "df = PrepareData.get_temp_data()\n",
    "df = df.dropna()\n",
    "\n",
    "train = df.sample(frac=0.8)\n",
    "test = df.drop(train.index)\n",
    "\n",
    "y_train = train['temp']\n",
    "X_train = train.drop('temp', axis=1)\n",
    "\n",
    "y_test = train['temp']\n",
    "X_test = train.drop('temp', axis=1)\n",
    "\n",
    "models = teach_models(X_train, y_train)"
   ],
   "metadata": {
    "collapsed": false,
    "pycharm": {
     "name": "#%%\n"
    }
   }
  },
  {
   "cell_type": "code",
   "execution_count": 60,
   "outputs": [
    {
     "name": "stdout",
     "output_type": "stream",
     "text": [
      "1/1 [==============================] - 0s 22ms/step\n",
      "0.1C\n"
     ]
    }
   ],
   "source": [
    "# simple usage of 'predict_tomorrow_temperature' method\n",
    "\n",
    "result=predict_tomorrow_temperature([models[0],models[1],models[2]])\n",
    "print(result)"
   ],
   "metadata": {
    "collapsed": false,
    "pycharm": {
     "name": "#%%\n"
    }
   }
  }
 ],
 "metadata": {
  "kernelspec": {
   "display_name": "Python 3",
   "language": "python",
   "name": "python3"
  },
  "language_info": {
   "codemirror_mode": {
    "name": "ipython",
    "version": 2
   },
   "file_extension": ".py",
   "mimetype": "text/x-python",
   "name": "python",
   "nbconvert_exporter": "python",
   "pygments_lexer": "ipython2",
   "version": "2.7.6"
  }
 },
 "nbformat": 4,
 "nbformat_minor": 0
}