{
 "cells": [
  {
   "cell_type": "code",
   "execution_count": 38,
   "metadata": {
    "collapsed": true
   },
   "outputs": [
    {
     "data": {
      "text/plain": "<module 'PrepareData' from 'C:\\\\Users\\\\Adam\\\\source\\\\repos\\\\WeatherPrediction\\\\WeatherPredictionProject\\\\PrepareData.py'>"
     },
     "execution_count": 38,
     "metadata": {},
     "output_type": "execute_result"
    }
   ],
   "source": [
    "from sklearn.model_selection import train_test_split\n",
    "from imblearn.combine import SMOTETomek\n",
    "import MachineLearning as ML\n",
    "import PrepareData\n",
    "import DB_reader\n",
    "import importlib\n",
    "\n",
    "importlib.reload(ML)\n",
    "importlib.reload(PrepareData)"
   ]
  },
  {
   "cell_type": "code",
   "execution_count": 39,
   "outputs": [],
   "source": [
    "def teach_models(X_train, y_train):\n",
    "    models=[]\n",
    "\n",
    "    models.append(ML.NeuralNetworks(X_train, y_train))\n",
    "    models.append(ML.LinearRegressionModel(X_train, y_train))\n",
    "    models.append(ML.SupportVectorRegression(X_train, y_train))\n",
    "\n",
    "    return models"
   ],
   "metadata": {
    "collapsed": false,
    "pycharm": {
     "name": "#%%\n"
    }
   }
  },
  {
   "cell_type": "code",
   "execution_count": 40,
   "outputs": [],
   "source": [
    "def predict_tomorrow_temperature(models):\n",
    "    results=[]\n",
    "    today_data=DB_reader.getWeatherForecast()\n",
    "    today_data=PrepareData.standarize_temp_row(today_data, df.iloc[:,1:].columns.values)\n",
    "\n",
    "    for model in models:\n",
    "        results.append(model.predict(today_data))\n",
    "    result=(sum(results)/len(results))\n",
    "\n",
    "    return result"
   ],
   "metadata": {
    "collapsed": false,
    "pycharm": {
     "name": "#%%\n"
    }
   }
  },
  {
   "cell_type": "code",
   "execution_count": 41,
   "outputs": [
    {
     "name": "stdout",
     "output_type": "stream",
     "text": [
      "Epoch 1/25\n",
      "302/302 [==============================] - 2s 3ms/step - loss: 0.9303 - f1: 0.9109 - accuracy: 0.0050 - val_loss: 0.3282 - val_f1: 0.8989 - val_accuracy: 0.0019\n",
      "Epoch 2/25\n",
      "302/302 [==============================] - 1s 2ms/step - loss: 0.5748 - f1: 0.9068 - accuracy: 0.0050 - val_loss: 0.3068 - val_f1: 0.8945 - val_accuracy: 0.0019\n",
      "Epoch 3/25\n",
      "302/302 [==============================] - 1s 2ms/step - loss: 0.5200 - f1: 0.9127 - accuracy: 0.0041 - val_loss: 0.2288 - val_f1: 0.8938 - val_accuracy: 0.0019\n",
      "Epoch 4/25\n",
      "302/302 [==============================] - 1s 2ms/step - loss: 0.4908 - f1: 0.9320 - accuracy: 0.0050 - val_loss: 0.1961 - val_f1: 0.8938 - val_accuracy: 0.0019\n",
      "Epoch 5/25\n",
      "302/302 [==============================] - 1s 2ms/step - loss: 0.4637 - f1: 0.9479 - accuracy: 0.0052 - val_loss: 0.2584 - val_f1: 0.8945 - val_accuracy: 0.0019\n",
      "Epoch 6/25\n",
      "302/302 [==============================] - 1s 2ms/step - loss: 0.4689 - f1: 0.9454 - accuracy: 0.0054 - val_loss: 0.2367 - val_f1: 0.8993 - val_accuracy: 0.0019\n",
      "Epoch 7/25\n",
      "302/302 [==============================] - 1s 2ms/step - loss: 0.4303 - f1: 0.9567 - accuracy: 0.0046 - val_loss: 0.2168 - val_f1: 0.8970 - val_accuracy: 0.0019\n",
      "Epoch 8/25\n",
      "302/302 [==============================] - 1s 2ms/step - loss: 0.4417 - f1: 0.9612 - accuracy: 0.0039 - val_loss: 0.2007 - val_f1: 0.8944 - val_accuracy: 0.0019\n",
      "Epoch 9/25\n",
      "302/302 [==============================] - 1s 2ms/step - loss: 0.4284 - f1: 0.9611 - accuracy: 0.0046 - val_loss: 0.2117 - val_f1: 0.8967 - val_accuracy: 0.0019\n",
      "Epoch 10/25\n",
      "302/302 [==============================] - 1s 2ms/step - loss: 0.4366 - f1: 0.9655 - accuracy: 0.0046 - val_loss: 0.2305 - val_f1: 0.9005 - val_accuracy: 0.0019\n",
      "Epoch 11/25\n",
      "302/302 [==============================] - 1s 2ms/step - loss: 0.4333 - f1: 0.9681 - accuracy: 0.0052 - val_loss: 0.2249 - val_f1: 0.8978 - val_accuracy: 0.0019\n",
      "Epoch 12/25\n",
      "302/302 [==============================] - 1s 2ms/step - loss: 0.4272 - f1: 0.9717 - accuracy: 0.0041 - val_loss: 0.2402 - val_f1: 0.8993 - val_accuracy: 0.0019\n",
      "Epoch 13/25\n",
      "302/302 [==============================] - 1s 2ms/step - loss: 0.4244 - f1: 0.9691 - accuracy: 0.0044 - val_loss: 0.2693 - val_f1: 0.9013 - val_accuracy: 0.0019\n",
      "Epoch 14/25\n",
      "302/302 [==============================] - 1s 2ms/step - loss: 0.4291 - f1: 0.9731 - accuracy: 0.0052 - val_loss: 0.2400 - val_f1: 0.8993 - val_accuracy: 0.0019\n"
     ]
    }
   ],
   "source": [
    "df = PrepareData.get_temp_data()\n",
    "df = df.dropna()\n",
    "\n",
    "train = df.sample(frac=0.8)\n",
    "test = df.drop(train.index)\n",
    "\n",
    "y_train = train['temp']\n",
    "X_train = train.drop('temp', axis=1)\n",
    "\n",
    "y_test = train['temp']\n",
    "X_test = train.drop('temp', axis=1)\n",
    "\n",
    "models = teach_models(X_train, y_train)"
   ],
   "metadata": {
    "collapsed": false,
    "pycharm": {
     "name": "#%%\n"
    }
   }
  },
  {
   "cell_type": "code",
   "execution_count": 45,
   "outputs": [
    {
     "name": "stdout",
     "output_type": "stream",
     "text": [
      "1/1 [==============================] - 0s 22ms/step\n",
      "[[0.01204925]]\n"
     ]
    }
   ],
   "source": [
    "# simple usage of 'predict_tomorrow_temperature' method\n",
    "\n",
    "result=predict_tomorrow_temperature([models[0],models[1],models[2]])\n",
    "print(result)"
   ],
   "metadata": {
    "collapsed": false,
    "pycharm": {
     "name": "#%%\n"
    }
   }
  }
 ],
 "metadata": {
  "kernelspec": {
   "display_name": "Python 3",
   "language": "python",
   "name": "python3"
  },
  "language_info": {
   "codemirror_mode": {
    "name": "ipython",
    "version": 2
   },
   "file_extension": ".py",
   "mimetype": "text/x-python",
   "name": "python",
   "nbconvert_exporter": "python",
   "pygments_lexer": "ipython2",
   "version": "2.7.6"
  }
 },
 "nbformat": 4,
 "nbformat_minor": 0
}