{
 "cells": [
  {
   "cell_type": "code",
   "execution_count": 76,
   "metadata": {
    "collapsed": true
   },
   "outputs": [
    {
     "data": {
      "text/plain": "<module 'PrepareData' from 'C:\\\\Users\\\\Adam\\\\source\\\\repos\\\\WeatherPrediction\\\\WeatherPredictionProject\\\\PrepareData.py'>"
     },
     "execution_count": 76,
     "metadata": {},
     "output_type": "execute_result"
    }
   ],
   "source": [
    "from sklearn.model_selection import train_test_split\n",
    "from imblearn.combine import SMOTETomek\n",
    "import MachineLearning as ML\n",
    "import PrepareData\n",
    "import DB_reader\n",
    "import importlib\n",
    "\n",
    "importlib.reload(ML)\n",
    "importlib.reload(PrepareData)"
   ]
  },
  {
   "cell_type": "code",
   "execution_count": 77,
   "outputs": [],
   "source": [
    "def teach_models(X_train, y_train):\n",
    "    models=[]\n",
    "\n",
    "    models.append(ML.NeuralNetworks(X_train, y_train))\n",
    "    models.append(ML.LinearRegressionModel(X_train, y_train))\n",
    "    models.append(ML.SupportVectorRegression(X_train, y_train))\n",
    "\n",
    "    return models"
   ],
   "metadata": {
    "collapsed": false,
    "pycharm": {
     "name": "#%%\n"
    }
   }
  },
  {
   "cell_type": "code",
   "execution_count": 78,
   "outputs": [],
   "source": [
    "def predict_tomorrow_temperature(models):\n",
    "    results=[]\n",
    "    today_data=DB_reader.getWeatherForecast()\n",
    "    today_data=PrepareData.standarize_temp_row(today_data, df.iloc[:,1:].columns.values)\n",
    "\n",
    "    for model in models:\n",
    "        results.append(model.predict(today_data))\n",
    "    result=sum(results)/len(results)\n",
    "\n",
    "    return str(round(result[0][0],1))+\"C\""
   ],
   "metadata": {
    "collapsed": false,
    "pycharm": {
     "name": "#%%\n"
    }
   }
  },
  {
   "cell_type": "code",
   "execution_count": 79,
   "outputs": [
    {
     "name": "stdout",
     "output_type": "stream",
     "text": [
      "Epoch 1/25\n",
      "302/302 [==============================] - 2s 4ms/step - loss: 0.9972 - f1: 0.9175 - accuracy: 0.0039 - val_loss: 0.3443 - val_f1: 0.9108 - val_accuracy: 0.0025\n",
      "Epoch 2/25\n",
      "302/302 [==============================] - 1s 3ms/step - loss: 0.5487 - f1: 0.9460 - accuracy: 0.0046 - val_loss: 0.2376 - val_f1: 0.9115 - val_accuracy: 0.0025\n",
      "Epoch 3/25\n",
      "302/302 [==============================] - 1s 3ms/step - loss: 0.5255 - f1: 0.9611 - accuracy: 0.0048 - val_loss: 0.2232 - val_f1: 0.9240 - val_accuracy: 0.0025\n",
      "Epoch 4/25\n",
      "302/302 [==============================] - 1s 3ms/step - loss: 0.4946 - f1: 0.9800 - accuracy: 0.0039 - val_loss: 0.1625 - val_f1: 0.9675 - val_accuracy: 0.0025\n",
      "Epoch 5/25\n",
      "302/302 [==============================] - 1s 2ms/step - loss: 0.4778 - f1: 0.9894 - accuracy: 0.0039 - val_loss: 0.1809 - val_f1: 0.9653 - val_accuracy: 0.0025\n",
      "Epoch 6/25\n",
      "302/302 [==============================] - 1s 2ms/step - loss: 0.4702 - f1: 0.9974 - accuracy: 0.0037 - val_loss: 0.1645 - val_f1: 0.9674 - val_accuracy: 0.0025\n",
      "Epoch 7/25\n",
      "302/302 [==============================] - 1s 3ms/step - loss: 0.4618 - f1: 0.9987 - accuracy: 0.0046 - val_loss: 0.1645 - val_f1: 0.9792 - val_accuracy: 0.0025\n",
      "Epoch 8/25\n",
      "302/302 [==============================] - 1s 2ms/step - loss: 0.4549 - f1: 1.0056 - accuracy: 0.0035 - val_loss: 0.1988 - val_f1: 0.9587 - val_accuracy: 0.0025\n",
      "Epoch 9/25\n",
      "302/302 [==============================] - 1s 2ms/step - loss: 0.4120 - f1: 1.0034 - accuracy: 0.0035 - val_loss: 0.1779 - val_f1: 0.9624 - val_accuracy: 0.0025\n",
      "Epoch 10/25\n",
      "302/302 [==============================] - 1s 3ms/step - loss: 0.3858 - f1: 0.9980 - accuracy: 0.0041 - val_loss: 0.1783 - val_f1: 0.9642 - val_accuracy: 0.0025\n",
      "Epoch 11/25\n",
      "302/302 [==============================] - 1s 3ms/step - loss: 0.3745 - f1: 0.9989 - accuracy: 0.0046 - val_loss: 0.1627 - val_f1: 0.9723 - val_accuracy: 0.0025\n",
      "Epoch 12/25\n",
      "302/302 [==============================] - 1s 3ms/step - loss: 0.3834 - f1: 0.9914 - accuracy: 0.0039 - val_loss: 0.1484 - val_f1: 0.9741 - val_accuracy: 0.0025\n",
      "Epoch 13/25\n",
      "302/302 [==============================] - 1s 2ms/step - loss: 0.3660 - f1: 0.9869 - accuracy: 0.0041 - val_loss: 0.1475 - val_f1: 0.9711 - val_accuracy: 0.0025\n",
      "Epoch 14/25\n",
      "302/302 [==============================] - 1s 3ms/step - loss: 0.3707 - f1: 0.9958 - accuracy: 0.0037 - val_loss: 0.1473 - val_f1: 0.9731 - val_accuracy: 0.0025\n",
      "Epoch 15/25\n",
      "302/302 [==============================] - 1s 3ms/step - loss: 0.3539 - f1: 0.9878 - accuracy: 0.0041 - val_loss: 0.1484 - val_f1: 0.9712 - val_accuracy: 0.0025\n",
      "Epoch 16/25\n",
      "302/302 [==============================] - 1s 2ms/step - loss: 0.3594 - f1: 0.9885 - accuracy: 0.0039 - val_loss: 0.1526 - val_f1: 0.9600 - val_accuracy: 0.0025\n",
      "Epoch 17/25\n",
      "302/302 [==============================] - 1s 2ms/step - loss: 0.3537 - f1: 0.9825 - accuracy: 0.0039 - val_loss: 0.1831 - val_f1: 0.9625 - val_accuracy: 0.0025\n",
      "Epoch 18/25\n",
      "302/302 [==============================] - 1s 2ms/step - loss: 0.3574 - f1: 0.9868 - accuracy: 0.0035 - val_loss: 0.1445 - val_f1: 0.9870 - val_accuracy: 0.0025\n",
      "Epoch 19/25\n",
      "302/302 [==============================] - 1s 2ms/step - loss: 0.3518 - f1: 1.0010 - accuracy: 0.0044 - val_loss: 0.1416 - val_f1: 0.9770 - val_accuracy: 0.0025\n",
      "Epoch 20/25\n",
      "302/302 [==============================] - 1s 2ms/step - loss: 0.3413 - f1: 0.9901 - accuracy: 0.0041 - val_loss: 0.1424 - val_f1: 0.9702 - val_accuracy: 0.0025\n",
      "Epoch 21/25\n",
      "302/302 [==============================] - 1s 3ms/step - loss: 0.3419 - f1: 0.9875 - accuracy: 0.0039 - val_loss: 0.1486 - val_f1: 0.9703 - val_accuracy: 0.0025\n",
      "Epoch 22/25\n",
      "302/302 [==============================] - 1s 3ms/step - loss: 0.3351 - f1: 0.9978 - accuracy: 0.0041 - val_loss: 0.1331 - val_f1: 0.9897 - val_accuracy: 0.0025\n",
      "Epoch 23/25\n",
      "302/302 [==============================] - 1s 2ms/step - loss: 0.3618 - f1: 0.9926 - accuracy: 0.0035 - val_loss: 0.1390 - val_f1: 0.9888 - val_accuracy: 0.0025\n",
      "Epoch 24/25\n",
      "302/302 [==============================] - 1s 2ms/step - loss: 0.3490 - f1: 0.9914 - accuracy: 0.0046 - val_loss: 0.1344 - val_f1: 0.9934 - val_accuracy: 0.0025\n",
      "Epoch 25/25\n",
      "302/302 [==============================] - 1s 2ms/step - loss: 0.3408 - f1: 1.0062 - accuracy: 0.0035 - val_loss: 0.1330 - val_f1: 0.9980 - val_accuracy: 0.0025\n"
     ]
    }
   ],
   "source": [
    "df = PrepareData.get_temp_data()\n",
    "df = df.dropna()\n",
    "\n",
    "train = df.sample(frac=0.8)\n",
    "test = df.drop(train.index)\n",
    "\n",
    "y_train = train['temp']\n",
    "X_train = train.drop('temp', axis=1)\n",
    "\n",
    "y_test = train['temp']\n",
    "X_test = train.drop('temp', axis=1)\n",
    "\n",
    "models = teach_models(X_train, y_train)"
   ],
   "metadata": {
    "collapsed": false,
    "pycharm": {
     "name": "#%%\n"
    }
   }
  },
  {
   "cell_type": "code",
   "execution_count": 80,
   "outputs": [
    {
     "name": "stdout",
     "output_type": "stream",
     "text": [
      "WARNING:tensorflow:5 out of the last 11 calls to <function Model.make_predict_function.<locals>.predict_function at 0x000001CACF6643A0> triggered tf.function retracing. Tracing is expensive and the excessive number of tracings could be due to (1) creating @tf.function repeatedly in a loop, (2) passing tensors with different shapes, (3) passing Python objects instead of tensors. For (1), please define your @tf.function outside of the loop. For (2), @tf.function has reduce_retracing=True option that can avoid unnecessary retracing. For (3), please refer to https://www.tensorflow.org/guide/function#controlling_retracing and https://www.tensorflow.org/api_docs/python/tf/function for  more details.\n",
      "1/1 [==============================] - 0s 81ms/step\n",
      "0.2C\n"
     ]
    }
   ],
   "source": [
    "# simple usage of 'predict_tomorrow_temperature' method\n",
    "\n",
    "result=predict_tomorrow_temperature([models[0],models[1],models[2]])\n",
    "print(result)"
   ],
   "metadata": {
    "collapsed": false,
    "pycharm": {
     "name": "#%%\n"
    }
   }
  }
 ],
 "metadata": {
  "kernelspec": {
   "display_name": "Python 3",
   "language": "python",
   "name": "python3"
  },
  "language_info": {
   "codemirror_mode": {
    "name": "ipython",
    "version": 2
   },
   "file_extension": ".py",
   "mimetype": "text/x-python",
   "name": "python",
   "nbconvert_exporter": "python",
   "pygments_lexer": "ipython2",
   "version": "2.7.6"
  }
 },
 "nbformat": 4,
 "nbformat_minor": 0
}