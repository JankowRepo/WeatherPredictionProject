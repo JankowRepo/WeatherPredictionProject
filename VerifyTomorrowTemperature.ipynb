{
 "cells": [
  {
   "cell_type": "code",
   "execution_count": null,
   "metadata": {
    "collapsed": true
   },
   "outputs": [],
   "source": [
    "from sklearn.model_selection import train_test_split\n",
    "from imblearn.combine import SMOTETomek\n",
    "import MachineLearning as ML\n",
    "import PrepareData\n",
    "import DB_reader\n",
    "import importlib\n",
    "\n",
    "importlib.reload(ML)\n",
    "importlib.reload(PrepareData)"
   ]
  },
  {
   "cell_type": "code",
   "execution_count": null,
   "outputs": [],
   "source": [
    "def teach_models(X_train, y_train):\n",
    "    models=[]\n",
    "\n",
    "    X_train, y_train = SMOTETomek().fit_resample(X_train, y_train)\n",
    "\n",
    "    models.append(ML.NeuralNetworks(X_train, y_train))\n",
    "    models.append(ML.LinearRegressionModel(X_train, y_train))\n",
    "    models.append(ML.LogisticRegressionModel(X_train, y_train))\n",
    "    models.append(ML.SupportVectorRegression(X_train, y_train))\n",
    "\n",
    "    return models"
   ],
   "metadata": {
    "collapsed": false,
    "pycharm": {
     "name": "#%%\n"
    }
   }
  },
  {
   "cell_type": "code",
   "execution_count": null,
   "outputs": [],
   "source": [
    "def predict_tomorrow_temperature(models):\n",
    "    results=[]\n",
    "    today_data=DB_reader.getWeatherForecast()\n",
    "    today_data=PrepareData.standarize_row(today_data, df.iloc[:,1:].columns.values)\n",
    "\n",
    "    for model in models:\n",
    "        results.append(model.predict(today_data))\n",
    "    result=(sum(results)/len(results))\n",
    "\n",
    "    return result"
   ],
   "metadata": {
    "collapsed": false,
    "pycharm": {
     "name": "#%%\n"
    }
   }
  },
  {
   "cell_type": "code",
   "execution_count": null,
   "outputs": [],
   "source": [
    "df = PrepareData.get_data()\n",
    "df = df.dropna()\n",
    "\n",
    "train = df.sample(frac=0.8)\n",
    "test = df.drop(train.index)\n",
    "\n",
    "y_train = train['temp']\n",
    "X_train = train.drop('temp', axis=1)\n",
    "\n",
    "y_test = train['temp']\n",
    "X_test = train.drop('temp', axis=1)\n",
    "\n",
    "models = teach_models(X_train, y_train)"
   ],
   "metadata": {
    "collapsed": false,
    "pycharm": {
     "name": "#%%\n"
    }
   }
  },
  {
   "cell_type": "code",
   "execution_count": null,
   "outputs": [],
   "source": [
    "# simple usage of 'predict_tomorrow_temperature' method\n",
    "\n",
    "result=predict_tomorrow_temperature([models[0],models[1],models[2]])\n",
    "print(result)"
   ],
   "metadata": {
    "collapsed": false,
    "pycharm": {
     "name": "#%%\n"
    }
   }
  }
 ],
 "metadata": {
  "kernelspec": {
   "display_name": "Python 3",
   "language": "python",
   "name": "python3"
  },
  "language_info": {
   "codemirror_mode": {
    "name": "ipython",
    "version": 2
   },
   "file_extension": ".py",
   "mimetype": "text/x-python",
   "name": "python",
   "nbconvert_exporter": "python",
   "pygments_lexer": "ipython2",
   "version": "2.7.6"
  }
 },
 "nbformat": 4,
 "nbformat_minor": 0
}